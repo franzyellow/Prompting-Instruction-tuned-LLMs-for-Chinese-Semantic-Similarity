{
 "cells": [
  {
   "cell_type": "code",
   "execution_count": 15,
   "metadata": {},
   "outputs": [],
   "source": [
    "import pandas as pd\n",
    "from sklearn.metrics import mean_squared_error, mean_absolute_error\n",
    "import seaborn as sns\n",
    "import matplotlib.pyplot as plt\n",
    "from scipy.stats import spearmanr\n",
    "import numpy as np\n",
    "import matplotlib.ticker as ticker\n",
    "from scipy.stats import kendalltau\n",
    "from scipy.stats import pearsonr\n",
    "import dcor"
   ]
  },
  {
   "cell_type": "code",
   "execution_count": 2,
   "metadata": {},
   "outputs": [],
   "source": [
    "def calculate_correlation_and_pvalue(dataframe, simlex999, standard_deviation):\n",
    "    corr, p_value = spearmanr(dataframe[simlex999], dataframe[standard_deviation])\n",
    "    significance = 'significant' if p_value < 0.05 else 'not significant'\n",
    "    return {\n",
    "        'simlex999': simlex999,\n",
    "        'standard_deviation': standard_deviation,\n",
    "        'correlation': round(corr, 5),\n",
    "        'p_value': p_value,\n",
    "        'significance': significance\n",
    "    }"
   ]
  },
  {
   "cell_type": "code",
   "execution_count": null,
   "metadata": {},
   "outputs": [],
   "source": [
    "def plot_scatter_plot(dataframe, column1, column2, x_label, y_label, x_min, x_max, y_min, y_max):\n",
    "    # Set size\n",
    "    fig, ax = plt.subplots(figsize=(7, 5))\n",
    "    \n",
    "    # Create scatter plot\n",
    "    sns.scatterplot(x=column1, y=column2, data=dataframe, color='skyblue', edgecolor='black', ax=ax)\n",
    "    \n",
    "    # Plot diagonal line\n",
    "    ax.plot([x_min, x_max], [y_min, y_max], color='red', linestyle='--')\n",
    "\n",
    "    # Set axis limits\n",
    "    ax.set_xlim(x_min, x_max)\n",
    "    ax.set_ylim(y_min, y_max)\n",
    "    \n",
    "    # Set labels and title\n",
    "    ax.set_xlabel(x_label)\n",
    "    ax.set_ylabel(y_label)\n",
    "    \n",
    "    # Remove grid\n",
    "    ax.grid(False)\n",
    "\n",
    "    # Adjust layout\n",
    "    plt.tight_layout()\n",
    "\n",
    "    # Show results\n",
    "    plt.show()"
   ]
  },
  {
   "cell_type": "code",
   "execution_count": 4,
   "metadata": {},
   "outputs": [],
   "source": [
    "def print_correlation_and_pvalue(dataframe, column1, column2):\n",
    "    corr, p_value = spearmanr(dataframe[column1], dataframe[column2])\n",
    "    print(f\"Spearman's Rank correlation: {round(corr, 5)}\")\n",
    "    print(f\"P-value: {p_value}\")\n",
    "    if p_value < 0.05:\n",
    "        print(\"The correlation is statistically significant.\\n\")\n",
    "    else:\n",
    "        print(\"The correlation is not statistically significant.\\n\")"
   ]
  },
  {
   "cell_type": "code",
   "execution_count": null,
   "metadata": {},
   "outputs": [],
   "source": [
    "def print_pearson_correlation_and_pvalue(dataframe, column1, column2):\n",
    "    corr, p_value = pearsonr(dataframe[column1], dataframe[column2])\n",
    "    print(f\"Pearson's correlation: {round(corr, 5)}\")\n",
    "    print(f\"P-value: {p_value}\")\n",
    "    if p_value < 0.05:\n",
    "        print(\"The correlation is statistically significant.\\n\")\n",
    "    else:\n",
    "        print(\"The correlation is not statistically significant.\\n\")"
   ]
  },
  {
   "cell_type": "code",
   "execution_count": 5,
   "metadata": {},
   "outputs": [],
   "source": [
    "def calculate_outliers(dataframe, column):\n",
    "    q1 = dataframe[column].quantile(0.25)\n",
    "    q3 = dataframe[column].quantile(0.75)\n",
    "    iqr = q3 - q1\n",
    "    lower_bound = q1 - 1.5 * iqr\n",
    "    upper_bound = q3 + 1.5 * iqr\n",
    "    outliers = dataframe[(dataframe[column] < lower_bound) | (dataframe[column] > upper_bound)]\n",
    "    return outliers"
   ]
  },
  {
   "cell_type": "code",
   "execution_count": 6,
   "metadata": {},
   "outputs": [],
   "source": [
    "def print_outlier_counts(dataframe):\n",
    "    columns_with_no_outliers = []\n",
    "    for col in dataframe.select_dtypes(include='number').columns:\n",
    "        outliers = calculate_outliers(dataframe, col)\n",
    "        if outliers.empty:\n",
    "            columns_with_no_outliers.append(col)\n",
    "        else:\n",
    "            print(f\"Outliers in {col}: {outliers.shape[0]}\")\n",
    "    \n",
    "    if columns_with_no_outliers:\n",
    "        print(f\"No outliers found in columns: {', '.join(columns_with_no_outliers)}\")"
   ]
  },
  {
   "cell_type": "code",
   "execution_count": 7,
   "metadata": {},
   "outputs": [],
   "source": [
    "def print_outlier_data(dataframe, col):\n",
    "    if col in dataframe.columns:\n",
    "        outliers = calculate_outliers(dataframe, col)\n",
    "        if not outliers.empty:\n",
    "            print(f\"\\nOutliers in {col}:\")\n",
    "            print(outliers)\n",
    "        else:\n",
    "            print(f\"No outliers found in {col}\")"
   ]
  },
  {
   "cell_type": "code",
   "execution_count": null,
   "metadata": {},
   "outputs": [],
   "source": [
    "def print_tau_correlation_and_pvalue(dataframe, column1, column2):\n",
    "    corr, p_value = kendalltau(dataframe[column1], dataframe[column2])\n",
    "    print(f\"Kendall’s Tau correlation: {round(corr, 5)}\")\n",
    "    print(f\"P-value: {p_value}\")\n",
    "    if p_value < 0.05:\n",
    "        print(\"The correlation is statistically significant.\\n\")\n",
    "    else:\n",
    "        print(\"The correlation is not statistically significant.\\n\")"
   ]
  },
  {
   "cell_type": "code",
   "execution_count": null,
   "metadata": {},
   "outputs": [],
   "source": [
    "def print_distance_correlation_and_pvalue(data, col1=None, col2=None, num_resamples=1000, random_state=None):\n",
    "    # 如果是 DataFrame，提取指定列；否则，直接使用输入数据\n",
    "    if col1 is not None and col2 is not None:\n",
    "        x = data[col1]\n",
    "        y = data[col2]\n",
    "    else:\n",
    "        x, y = data\n",
    "\n",
    "    # 确保输入为 NumPy 数组\n",
    "    x = np.asarray(x)\n",
    "    y = np.asarray(y)\n",
    "\n",
    "    # 计算 Distance Correlation\n",
    "    dist_corr = dcor.distance_correlation(x, y)\n",
    "\n",
    "    # 计算 P-value\n",
    "    p_value = dcor.independence.distance_covariance_test(\n",
    "        x, y, num_resamples=num_resamples, random_state=random_state\n",
    "    ).p_value\n",
    "\n",
    "    # 打印结果\n",
    "    print(f\"Distance Correlation: {round(dist_corr, 5)}\")\n",
    "    print(f\"P-value: {p_value}\")\n",
    "    if p_value < 0.05:\n",
    "        print(\"The correlation is statistically significant.\\n\")\n",
    "    else:\n",
    "        print(\"The correlation is not statistically significant.\\n\")\n",
    "    \n",
    "    return dist_corr, p_value"
   ]
  }
 ],
 "metadata": {
  "kernelspec": {
   "display_name": "Python 3 (ipykernel)",
   "language": "python",
   "name": "python3"
  },
  "language_info": {
   "codemirror_mode": {
    "name": "ipython",
    "version": 3
   },
   "file_extension": ".py",
   "mimetype": "text/x-python",
   "name": "python",
   "nbconvert_exporter": "python",
   "pygments_lexer": "ipython3",
   "version": "3.11.5"
  }
 },
 "nbformat": 4,
 "nbformat_minor": 4
}
