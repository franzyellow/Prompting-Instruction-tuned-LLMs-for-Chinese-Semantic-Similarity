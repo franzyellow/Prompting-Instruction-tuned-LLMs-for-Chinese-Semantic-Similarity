{
 "cells": [
  {
   "cell_type": "markdown",
   "metadata": {},
   "source": [
    "### **0. Set-up**"
   ]
  },
  {
   "cell_type": "code",
   "execution_count": 3,
   "metadata": {},
   "outputs": [],
   "source": [
    "# Import libraries and utils\n",
    "%run \"utils.ipynb\""
   ]
  },
  {
   "cell_type": "code",
   "execution_count": 4,
   "metadata": {},
   "outputs": [],
   "source": [
    "# Load predicted\n",
    "raw_predicted = pd.read_csv(\"F:/work_study/ILLC/S3B1/LLM project/implementation/doubao/f3.csv\")\n",
    "\n",
    "# Load actual\n",
    "raw_actual = pd.read_csv(\"F:\\work_study\\ILLC\\S3B1\\LLM project\\implementation\\sampled_avg_multisimlex_CN.csv\")\n",
    "\n",
    "# Drop first three word pairs\n",
    "raw_actual = raw_actual.iloc[3:].reset_index(drop=True)"
   ]
  },
  {
   "cell_type": "code",
   "execution_count": 5,
   "metadata": {},
   "outputs": [
    {
     "data": {
      "text/html": [
       "<div>\n",
       "<style scoped>\n",
       "    .dataframe tbody tr th:only-of-type {\n",
       "        vertical-align: middle;\n",
       "    }\n",
       "\n",
       "    .dataframe tbody tr th {\n",
       "        vertical-align: top;\n",
       "    }\n",
       "\n",
       "    .dataframe thead th {\n",
       "        text-align: right;\n",
       "    }\n",
       "</style>\n",
       "<table border=\"1\" class=\"dataframe\">\n",
       "  <thead>\n",
       "    <tr style=\"text-align: right;\">\n",
       "      <th></th>\n",
       "      <th>word1</th>\n",
       "      <th>word2</th>\n",
       "      <th>similarity_score_1</th>\n",
       "      <th>similarity_score_2</th>\n",
       "      <th>similarity_score_3</th>\n",
       "      <th>similarity_score_4</th>\n",
       "      <th>similarity_score_5</th>\n",
       "      <th>similarity_score_6</th>\n",
       "      <th>similarity_score_7</th>\n",
       "      <th>similarity_score_8</th>\n",
       "      <th>similarity_score_9</th>\n",
       "      <th>similarity_score_10</th>\n",
       "      <th>similarity_score_11</th>\n",
       "      <th>similarity_score_12</th>\n",
       "      <th>similarity_score_13</th>\n",
       "      <th>similarity_score_14</th>\n",
       "      <th>similarity_score_15</th>\n",
       "    </tr>\n",
       "  </thead>\n",
       "  <tbody>\n",
       "    <tr>\n",
       "      <th>0</th>\n",
       "      <td>闷</td>\n",
       "      <td>平庸</td>\n",
       "      <td>0</td>\n",
       "      <td>0</td>\n",
       "      <td>0</td>\n",
       "      <td>0</td>\n",
       "      <td>0</td>\n",
       "      <td>0</td>\n",
       "      <td>0</td>\n",
       "      <td>0</td>\n",
       "      <td>0</td>\n",
       "      <td>0</td>\n",
       "      <td>0</td>\n",
       "      <td>0</td>\n",
       "      <td>0</td>\n",
       "      <td>0</td>\n",
       "      <td>0</td>\n",
       "    </tr>\n",
       "    <tr>\n",
       "      <th>1</th>\n",
       "      <td>害羞</td>\n",
       "      <td>昂贵</td>\n",
       "      <td>0</td>\n",
       "      <td>0</td>\n",
       "      <td>0</td>\n",
       "      <td>0</td>\n",
       "      <td>0</td>\n",
       "      <td>0</td>\n",
       "      <td>0</td>\n",
       "      <td>0</td>\n",
       "      <td>0</td>\n",
       "      <td>0</td>\n",
       "      <td>0</td>\n",
       "      <td>0</td>\n",
       "      <td>0</td>\n",
       "      <td>0</td>\n",
       "      <td>0</td>\n",
       "    </tr>\n",
       "    <tr>\n",
       "      <th>2</th>\n",
       "      <td>不同</td>\n",
       "      <td>正常</td>\n",
       "      <td>0</td>\n",
       "      <td>0</td>\n",
       "      <td>0</td>\n",
       "      <td>0</td>\n",
       "      <td>0</td>\n",
       "      <td>0</td>\n",
       "      <td>0</td>\n",
       "      <td>0</td>\n",
       "      <td>0</td>\n",
       "      <td>0</td>\n",
       "      <td>0</td>\n",
       "      <td>0</td>\n",
       "      <td>0</td>\n",
       "      <td>0</td>\n",
       "      <td>0</td>\n",
       "    </tr>\n",
       "    <tr>\n",
       "      <th>3</th>\n",
       "      <td>自豪</td>\n",
       "      <td>傲慢</td>\n",
       "      <td>3</td>\n",
       "      <td>3</td>\n",
       "      <td>3</td>\n",
       "      <td>2</td>\n",
       "      <td>2</td>\n",
       "      <td>2</td>\n",
       "      <td>2</td>\n",
       "      <td>2</td>\n",
       "      <td>2</td>\n",
       "      <td>3</td>\n",
       "      <td>3</td>\n",
       "      <td>3</td>\n",
       "      <td>2</td>\n",
       "      <td>3</td>\n",
       "      <td>3</td>\n",
       "    </tr>\n",
       "    <tr>\n",
       "      <th>4</th>\n",
       "      <td>愉快</td>\n",
       "      <td>快乐</td>\n",
       "      <td>6</td>\n",
       "      <td>6</td>\n",
       "      <td>6</td>\n",
       "      <td>6</td>\n",
       "      <td>6</td>\n",
       "      <td>6</td>\n",
       "      <td>6</td>\n",
       "      <td>6</td>\n",
       "      <td>6</td>\n",
       "      <td>6</td>\n",
       "      <td>6</td>\n",
       "      <td>6</td>\n",
       "      <td>6</td>\n",
       "      <td>6</td>\n",
       "      <td>6</td>\n",
       "    </tr>\n",
       "    <tr>\n",
       "      <th>...</th>\n",
       "      <td>...</td>\n",
       "      <td>...</td>\n",
       "      <td>...</td>\n",
       "      <td>...</td>\n",
       "      <td>...</td>\n",
       "      <td>...</td>\n",
       "      <td>...</td>\n",
       "      <td>...</td>\n",
       "      <td>...</td>\n",
       "      <td>...</td>\n",
       "      <td>...</td>\n",
       "      <td>...</td>\n",
       "      <td>...</td>\n",
       "      <td>...</td>\n",
       "      <td>...</td>\n",
       "      <td>...</td>\n",
       "      <td>...</td>\n",
       "    </tr>\n",
       "    <tr>\n",
       "      <th>464</th>\n",
       "      <td>离开</td>\n",
       "      <td>走开</td>\n",
       "      <td>6</td>\n",
       "      <td>5</td>\n",
       "      <td>5</td>\n",
       "      <td>5</td>\n",
       "      <td>5</td>\n",
       "      <td>5</td>\n",
       "      <td>5</td>\n",
       "      <td>5</td>\n",
       "      <td>5</td>\n",
       "      <td>6</td>\n",
       "      <td>5</td>\n",
       "      <td>5</td>\n",
       "      <td>5</td>\n",
       "      <td>5</td>\n",
       "      <td>6</td>\n",
       "    </tr>\n",
       "    <tr>\n",
       "      <th>465</th>\n",
       "      <td>读</td>\n",
       "      <td>理解</td>\n",
       "      <td>1</td>\n",
       "      <td>3</td>\n",
       "      <td>3</td>\n",
       "      <td>3</td>\n",
       "      <td>2</td>\n",
       "      <td>3</td>\n",
       "      <td>3</td>\n",
       "      <td>3</td>\n",
       "      <td>3</td>\n",
       "      <td>2</td>\n",
       "      <td>3</td>\n",
       "      <td>3</td>\n",
       "      <td>3</td>\n",
       "      <td>3</td>\n",
       "      <td>3</td>\n",
       "    </tr>\n",
       "    <tr>\n",
       "      <th>466</th>\n",
       "      <td>装作</td>\n",
       "      <td>想像</td>\n",
       "      <td>1</td>\n",
       "      <td>3</td>\n",
       "      <td>3</td>\n",
       "      <td>3</td>\n",
       "      <td>2</td>\n",
       "      <td>3</td>\n",
       "      <td>3</td>\n",
       "      <td>3</td>\n",
       "      <td>3</td>\n",
       "      <td>4</td>\n",
       "      <td>3</td>\n",
       "      <td>3</td>\n",
       "      <td>3</td>\n",
       "      <td>3</td>\n",
       "      <td>3</td>\n",
       "    </tr>\n",
       "    <tr>\n",
       "      <th>467</th>\n",
       "      <td>跟随</td>\n",
       "      <td>追逐</td>\n",
       "      <td>6</td>\n",
       "      <td>4</td>\n",
       "      <td>4</td>\n",
       "      <td>3</td>\n",
       "      <td>4</td>\n",
       "      <td>4</td>\n",
       "      <td>4</td>\n",
       "      <td>4</td>\n",
       "      <td>4</td>\n",
       "      <td>4</td>\n",
       "      <td>4</td>\n",
       "      <td>4</td>\n",
       "      <td>4</td>\n",
       "      <td>3</td>\n",
       "      <td>4</td>\n",
       "    </tr>\n",
       "    <tr>\n",
       "      <th>468</th>\n",
       "      <td>加</td>\n",
       "      <td>除</td>\n",
       "      <td>0</td>\n",
       "      <td>0</td>\n",
       "      <td>0</td>\n",
       "      <td>0</td>\n",
       "      <td>0</td>\n",
       "      <td>0</td>\n",
       "      <td>0</td>\n",
       "      <td>0</td>\n",
       "      <td>0</td>\n",
       "      <td>0</td>\n",
       "      <td>0</td>\n",
       "      <td>0</td>\n",
       "      <td>0</td>\n",
       "      <td>0</td>\n",
       "      <td>0</td>\n",
       "    </tr>\n",
       "  </tbody>\n",
       "</table>\n",
       "<p>469 rows × 17 columns</p>\n",
       "</div>"
      ],
      "text/plain": [
       "    word1 word2  similarity_score_1  similarity_score_2  similarity_score_3  \\\n",
       "0       闷    平庸                   0                   0                   0   \n",
       "1      害羞    昂贵                   0                   0                   0   \n",
       "2      不同    正常                   0                   0                   0   \n",
       "3      自豪    傲慢                   3                   3                   3   \n",
       "4      愉快    快乐                   6                   6                   6   \n",
       "..    ...   ...                 ...                 ...                 ...   \n",
       "464    离开    走开                   6                   5                   5   \n",
       "465     读    理解                   1                   3                   3   \n",
       "466    装作    想像                   1                   3                   3   \n",
       "467    跟随    追逐                   6                   4                   4   \n",
       "468     加     除                   0                   0                   0   \n",
       "\n",
       "     similarity_score_4  similarity_score_5  similarity_score_6  \\\n",
       "0                     0                   0                   0   \n",
       "1                     0                   0                   0   \n",
       "2                     0                   0                   0   \n",
       "3                     2                   2                   2   \n",
       "4                     6                   6                   6   \n",
       "..                  ...                 ...                 ...   \n",
       "464                   5                   5                   5   \n",
       "465                   3                   2                   3   \n",
       "466                   3                   2                   3   \n",
       "467                   3                   4                   4   \n",
       "468                   0                   0                   0   \n",
       "\n",
       "     similarity_score_7  similarity_score_8  similarity_score_9  \\\n",
       "0                     0                   0                   0   \n",
       "1                     0                   0                   0   \n",
       "2                     0                   0                   0   \n",
       "3                     2                   2                   2   \n",
       "4                     6                   6                   6   \n",
       "..                  ...                 ...                 ...   \n",
       "464                   5                   5                   5   \n",
       "465                   3                   3                   3   \n",
       "466                   3                   3                   3   \n",
       "467                   4                   4                   4   \n",
       "468                   0                   0                   0   \n",
       "\n",
       "     similarity_score_10  similarity_score_11  similarity_score_12  \\\n",
       "0                      0                    0                    0   \n",
       "1                      0                    0                    0   \n",
       "2                      0                    0                    0   \n",
       "3                      3                    3                    3   \n",
       "4                      6                    6                    6   \n",
       "..                   ...                  ...                  ...   \n",
       "464                    6                    5                    5   \n",
       "465                    2                    3                    3   \n",
       "466                    4                    3                    3   \n",
       "467                    4                    4                    4   \n",
       "468                    0                    0                    0   \n",
       "\n",
       "     similarity_score_13  similarity_score_14  similarity_score_15  \n",
       "0                      0                    0                    0  \n",
       "1                      0                    0                    0  \n",
       "2                      0                    0                    0  \n",
       "3                      2                    3                    3  \n",
       "4                      6                    6                    6  \n",
       "..                   ...                  ...                  ...  \n",
       "464                    5                    5                    6  \n",
       "465                    3                    3                    3  \n",
       "466                    3                    3                    3  \n",
       "467                    4                    3                    4  \n",
       "468                    0                    0                    0  \n",
       "\n",
       "[469 rows x 17 columns]"
      ]
     },
     "execution_count": 5,
     "metadata": {},
     "output_type": "execute_result"
    }
   ],
   "source": [
    "# Show results\n",
    "raw_predicted"
   ]
  },
  {
   "cell_type": "markdown",
   "metadata": {},
   "source": [
    "### **1. Data Quality**"
   ]
  },
  {
   "cell_type": "code",
   "execution_count": 7,
   "metadata": {},
   "outputs": [
    {
     "name": "stdout",
     "output_type": "stream",
     "text": [
      "<class 'pandas.core.frame.DataFrame'>\n",
      "RangeIndex: 469 entries, 0 to 468\n",
      "Data columns (total 17 columns):\n",
      " #   Column               Non-Null Count  Dtype \n",
      "---  ------               --------------  ----- \n",
      " 0   word1                469 non-null    object\n",
      " 1   word2                469 non-null    object\n",
      " 2   similarity_score_1   469 non-null    int64 \n",
      " 3   similarity_score_2   469 non-null    int64 \n",
      " 4   similarity_score_3   469 non-null    int64 \n",
      " 5   similarity_score_4   469 non-null    int64 \n",
      " 6   similarity_score_5   469 non-null    int64 \n",
      " 7   similarity_score_6   469 non-null    int64 \n",
      " 8   similarity_score_7   469 non-null    int64 \n",
      " 9   similarity_score_8   469 non-null    int64 \n",
      " 10  similarity_score_9   469 non-null    int64 \n",
      " 11  similarity_score_10  469 non-null    int64 \n",
      " 12  similarity_score_11  469 non-null    int64 \n",
      " 13  similarity_score_12  469 non-null    int64 \n",
      " 14  similarity_score_13  469 non-null    int64 \n",
      " 15  similarity_score_14  469 non-null    int64 \n",
      " 16  similarity_score_15  469 non-null    int64 \n",
      "dtypes: int64(15), object(2)\n",
      "memory usage: 62.4+ KB\n"
     ]
    }
   ],
   "source": [
    "# Basic info\n",
    "raw_predicted.info()"
   ]
  },
  {
   "cell_type": "code",
   "execution_count": 8,
   "metadata": {},
   "outputs": [
    {
     "data": {
      "text/plain": [
       "word1                  0\n",
       "word2                  0\n",
       "similarity_score_1     0\n",
       "similarity_score_2     0\n",
       "similarity_score_3     0\n",
       "similarity_score_4     0\n",
       "similarity_score_5     0\n",
       "similarity_score_6     0\n",
       "similarity_score_7     0\n",
       "similarity_score_8     0\n",
       "similarity_score_9     0\n",
       "similarity_score_10    0\n",
       "similarity_score_11    0\n",
       "similarity_score_12    0\n",
       "similarity_score_13    0\n",
       "similarity_score_14    0\n",
       "similarity_score_15    0\n",
       "dtype: int64"
      ]
     },
     "execution_count": 8,
     "metadata": {},
     "output_type": "execute_result"
    }
   ],
   "source": [
    "# Missing values per column\n",
    "raw_predicted.isnull().sum()"
   ]
  },
  {
   "cell_type": "code",
   "execution_count": 9,
   "metadata": {},
   "outputs": [
    {
     "name": "stdout",
     "output_type": "stream",
     "text": [
      "Word pairs in Actual are identical to Predicted: True\n",
      "No differences found\n"
     ]
    }
   ],
   "source": [
    "# Select word pairs and copy\n",
    "wordpairs_predicted = raw_predicted[['word1', 'word2']].copy()\n",
    "wordpairs_actual = raw_actual[['word1', 'word2']].copy()\n",
    "\n",
    "# Remove whitespace\n",
    "wordpairs_actual['word1'] = wordpairs_actual['word1'].replace(\" \", \"\", regex=True)\n",
    "wordpairs_actual['word2'] = wordpairs_actual['word2'].replace(\" \", \"\", regex=True)\n",
    "\n",
    "# Check if actual is identical to predicted\n",
    "are_identical = wordpairs_actual.equals(wordpairs_predicted)\n",
    "print(\"Word pairs in Actual are identical to Predicted:\", are_identical)\n",
    "\n",
    "# If not identical, show the differences\n",
    "differences = None\n",
    "if not are_identical:\n",
    "    differences = wordpairs_actual.compare(wordpairs_predicted)\n",
    "    differences.columns = ['Word1 Actual', 'Word1 Predicted']\n",
    "\n",
    "# Show results\n",
    "differences if differences is not None else print(\"No differences found\")"
   ]
  },
  {
   "cell_type": "markdown",
   "metadata": {},
   "source": [
    "### **2. Data Processing**"
   ]
  },
  {
   "cell_type": "code",
   "execution_count": 11,
   "metadata": {},
   "outputs": [
    {
     "data": {
      "text/html": [
       "<div>\n",
       "<style scoped>\n",
       "    .dataframe tbody tr th:only-of-type {\n",
       "        vertical-align: middle;\n",
       "    }\n",
       "\n",
       "    .dataframe tbody tr th {\n",
       "        vertical-align: top;\n",
       "    }\n",
       "\n",
       "    .dataframe thead th {\n",
       "        text-align: right;\n",
       "    }\n",
       "</style>\n",
       "<table border=\"1\" class=\"dataframe\">\n",
       "  <thead>\n",
       "    <tr style=\"text-align: right;\">\n",
       "      <th></th>\n",
       "      <th>word1</th>\n",
       "      <th>word2</th>\n",
       "      <th>pred_sl</th>\n",
       "      <th>pred_sd</th>\n",
       "    </tr>\n",
       "  </thead>\n",
       "  <tbody>\n",
       "    <tr>\n",
       "      <th>0</th>\n",
       "      <td>闷</td>\n",
       "      <td>平庸</td>\n",
       "      <td>0.00</td>\n",
       "      <td>0.00</td>\n",
       "    </tr>\n",
       "    <tr>\n",
       "      <th>1</th>\n",
       "      <td>害羞</td>\n",
       "      <td>昂贵</td>\n",
       "      <td>0.00</td>\n",
       "      <td>0.00</td>\n",
       "    </tr>\n",
       "    <tr>\n",
       "      <th>2</th>\n",
       "      <td>不同</td>\n",
       "      <td>正常</td>\n",
       "      <td>0.00</td>\n",
       "      <td>0.00</td>\n",
       "    </tr>\n",
       "    <tr>\n",
       "      <th>3</th>\n",
       "      <td>自豪</td>\n",
       "      <td>傲慢</td>\n",
       "      <td>2.53</td>\n",
       "      <td>0.52</td>\n",
       "    </tr>\n",
       "    <tr>\n",
       "      <th>4</th>\n",
       "      <td>愉快</td>\n",
       "      <td>快乐</td>\n",
       "      <td>6.00</td>\n",
       "      <td>0.00</td>\n",
       "    </tr>\n",
       "    <tr>\n",
       "      <th>...</th>\n",
       "      <td>...</td>\n",
       "      <td>...</td>\n",
       "      <td>...</td>\n",
       "      <td>...</td>\n",
       "    </tr>\n",
       "    <tr>\n",
       "      <th>464</th>\n",
       "      <td>离开</td>\n",
       "      <td>走开</td>\n",
       "      <td>5.20</td>\n",
       "      <td>0.41</td>\n",
       "    </tr>\n",
       "    <tr>\n",
       "      <th>465</th>\n",
       "      <td>读</td>\n",
       "      <td>理解</td>\n",
       "      <td>2.73</td>\n",
       "      <td>0.59</td>\n",
       "    </tr>\n",
       "    <tr>\n",
       "      <th>466</th>\n",
       "      <td>装作</td>\n",
       "      <td>想像</td>\n",
       "      <td>2.87</td>\n",
       "      <td>0.64</td>\n",
       "    </tr>\n",
       "    <tr>\n",
       "      <th>467</th>\n",
       "      <td>跟随</td>\n",
       "      <td>追逐</td>\n",
       "      <td>4.00</td>\n",
       "      <td>0.65</td>\n",
       "    </tr>\n",
       "    <tr>\n",
       "      <th>468</th>\n",
       "      <td>加</td>\n",
       "      <td>除</td>\n",
       "      <td>0.00</td>\n",
       "      <td>0.00</td>\n",
       "    </tr>\n",
       "  </tbody>\n",
       "</table>\n",
       "<p>469 rows × 4 columns</p>\n",
       "</div>"
      ],
      "text/plain": [
       "    word1 word2  pred_sl  pred_sd\n",
       "0       闷    平庸     0.00     0.00\n",
       "1      害羞    昂贵     0.00     0.00\n",
       "2      不同    正常     0.00     0.00\n",
       "3      自豪    傲慢     2.53     0.52\n",
       "4      愉快    快乐     6.00     0.00\n",
       "..    ...   ...      ...      ...\n",
       "464    离开    走开     5.20     0.41\n",
       "465     读    理解     2.73     0.59\n",
       "466    装作    想像     2.87     0.64\n",
       "467    跟随    追逐     4.00     0.65\n",
       "468     加     除     0.00     0.00\n",
       "\n",
       "[469 rows x 4 columns]"
      ]
     },
     "execution_count": 11,
     "metadata": {},
     "output_type": "execute_result"
    }
   ],
   "source": [
    "# Copy dataframe\n",
    "predicted = raw_predicted.copy()\n",
    "\n",
    "# List of columns to calculate mean MultiSimlex_CN\n",
    "similarity_cols = [f\"similarity_score_{i}\" for i in range(1, 16)]\n",
    "\n",
    "# Calculate the mean MultiSimlex_CN\n",
    "predicted['pred_sl'] = predicted[similarity_cols].mean(axis=1).round(2)\n",
    "\n",
    "# Calculate the standard deviation MultiSimlex_CN\n",
    "predicted['pred_sd'] = predicted[similarity_cols].std(axis=1).round(2)\n",
    "\n",
    "# Select columns\n",
    "predicted = predicted[['word1', 'word2', 'pred_sl', 'pred_sd']]\n",
    "\n",
    "# Show results\n",
    "predicted"
   ]
  },
  {
   "cell_type": "code",
   "execution_count": 12,
   "metadata": {},
   "outputs": [
    {
     "data": {
      "text/html": [
       "<div>\n",
       "<style scoped>\n",
       "    .dataframe tbody tr th:only-of-type {\n",
       "        vertical-align: middle;\n",
       "    }\n",
       "\n",
       "    .dataframe tbody tr th {\n",
       "        vertical-align: top;\n",
       "    }\n",
       "\n",
       "    .dataframe thead th {\n",
       "        text-align: right;\n",
       "    }\n",
       "</style>\n",
       "<table border=\"1\" class=\"dataframe\">\n",
       "  <thead>\n",
       "    <tr style=\"text-align: right;\">\n",
       "      <th></th>\n",
       "      <th>word1</th>\n",
       "      <th>word2</th>\n",
       "      <th>act_sl</th>\n",
       "      <th>act_sd</th>\n",
       "    </tr>\n",
       "  </thead>\n",
       "  <tbody>\n",
       "    <tr>\n",
       "      <th>0</th>\n",
       "      <td>闷</td>\n",
       "      <td>平庸</td>\n",
       "      <td>0.91</td>\n",
       "      <td>1.14</td>\n",
       "    </tr>\n",
       "    <tr>\n",
       "      <th>1</th>\n",
       "      <td>害羞</td>\n",
       "      <td>昂贵</td>\n",
       "      <td>0.00</td>\n",
       "      <td>0.00</td>\n",
       "    </tr>\n",
       "    <tr>\n",
       "      <th>2</th>\n",
       "      <td>不同</td>\n",
       "      <td>正常</td>\n",
       "      <td>0.00</td>\n",
       "      <td>0.00</td>\n",
       "    </tr>\n",
       "    <tr>\n",
       "      <th>3</th>\n",
       "      <td>自豪</td>\n",
       "      <td>傲慢</td>\n",
       "      <td>2.91</td>\n",
       "      <td>1.56</td>\n",
       "    </tr>\n",
       "    <tr>\n",
       "      <th>4</th>\n",
       "      <td>愉快</td>\n",
       "      <td>快乐</td>\n",
       "      <td>4.91</td>\n",
       "      <td>1.03</td>\n",
       "    </tr>\n",
       "    <tr>\n",
       "      <th>...</th>\n",
       "      <td>...</td>\n",
       "      <td>...</td>\n",
       "      <td>...</td>\n",
       "      <td>...</td>\n",
       "    </tr>\n",
       "    <tr>\n",
       "      <th>464</th>\n",
       "      <td>离开</td>\n",
       "      <td>走开</td>\n",
       "      <td>4.09</td>\n",
       "      <td>1.32</td>\n",
       "    </tr>\n",
       "    <tr>\n",
       "      <th>465</th>\n",
       "      <td>读</td>\n",
       "      <td>理解</td>\n",
       "      <td>0.64</td>\n",
       "      <td>1.26</td>\n",
       "    </tr>\n",
       "    <tr>\n",
       "      <th>466</th>\n",
       "      <td>装作</td>\n",
       "      <td>想像</td>\n",
       "      <td>0.18</td>\n",
       "      <td>0.63</td>\n",
       "    </tr>\n",
       "    <tr>\n",
       "      <th>467</th>\n",
       "      <td>跟随</td>\n",
       "      <td>追逐</td>\n",
       "      <td>2.82</td>\n",
       "      <td>1.56</td>\n",
       "    </tr>\n",
       "    <tr>\n",
       "      <th>468</th>\n",
       "      <td>加</td>\n",
       "      <td>除</td>\n",
       "      <td>0.45</td>\n",
       "      <td>0.84</td>\n",
       "    </tr>\n",
       "  </tbody>\n",
       "</table>\n",
       "<p>469 rows × 4 columns</p>\n",
       "</div>"
      ],
      "text/plain": [
       "    word1 word2  act_sl  act_sd\n",
       "0       闷    平庸    0.91    1.14\n",
       "1      害羞    昂贵    0.00    0.00\n",
       "2      不同    正常    0.00    0.00\n",
       "3      自豪    傲慢    2.91    1.56\n",
       "4      愉快    快乐    4.91    1.03\n",
       "..    ...   ...     ...     ...\n",
       "464    离开    走开    4.09    1.32\n",
       "465     读    理解    0.64    1.26\n",
       "466    装作    想像    0.18    0.63\n",
       "467    跟随    追逐    2.82    1.56\n",
       "468     加     除    0.45    0.84\n",
       "\n",
       "[469 rows x 4 columns]"
      ]
     },
     "execution_count": 12,
     "metadata": {},
     "output_type": "execute_result"
    }
   ],
   "source": [
    "# Copy dataframe\n",
    "actual = raw_actual.copy()\n",
    "\n",
    "# List of columns to calculate prediction mean\n",
    "annotation_cols = [f\"Annotator {i}\" for i in range(1, 11)]\n",
    "\n",
    "# Calculate the prediction mean\n",
    "actual['act_sl'] = actual['avg_anno']\n",
    "\n",
    "# Calculate the prediction standard deviation\n",
    "actual['act_sd'] = actual[annotation_cols].std(axis=1).round(2)\n",
    "\n",
    "actual = actual[['word1', 'word2', 'act_sl', 'act_sd']]\n",
    "\n",
    "# Show results\n",
    "actual"
   ]
  },
  {
   "cell_type": "code",
   "execution_count": 13,
   "metadata": {},
   "outputs": [
    {
     "data": {
      "text/html": [
       "<div>\n",
       "<style scoped>\n",
       "    .dataframe tbody tr th:only-of-type {\n",
       "        vertical-align: middle;\n",
       "    }\n",
       "\n",
       "    .dataframe tbody tr th {\n",
       "        vertical-align: top;\n",
       "    }\n",
       "\n",
       "    .dataframe thead th {\n",
       "        text-align: right;\n",
       "    }\n",
       "</style>\n",
       "<table border=\"1\" class=\"dataframe\">\n",
       "  <thead>\n",
       "    <tr style=\"text-align: right;\">\n",
       "      <th></th>\n",
       "      <th>word1</th>\n",
       "      <th>word2</th>\n",
       "      <th>pred_sl</th>\n",
       "      <th>pred_sd</th>\n",
       "      <th>act_sl</th>\n",
       "      <th>act_sd</th>\n",
       "    </tr>\n",
       "  </thead>\n",
       "  <tbody>\n",
       "    <tr>\n",
       "      <th>0</th>\n",
       "      <td>闷</td>\n",
       "      <td>平庸</td>\n",
       "      <td>0.00</td>\n",
       "      <td>0.00</td>\n",
       "      <td>0.91</td>\n",
       "      <td>1.14</td>\n",
       "    </tr>\n",
       "    <tr>\n",
       "      <th>1</th>\n",
       "      <td>害羞</td>\n",
       "      <td>昂贵</td>\n",
       "      <td>0.00</td>\n",
       "      <td>0.00</td>\n",
       "      <td>0.00</td>\n",
       "      <td>0.00</td>\n",
       "    </tr>\n",
       "    <tr>\n",
       "      <th>2</th>\n",
       "      <td>不同</td>\n",
       "      <td>正常</td>\n",
       "      <td>0.00</td>\n",
       "      <td>0.00</td>\n",
       "      <td>0.00</td>\n",
       "      <td>0.00</td>\n",
       "    </tr>\n",
       "    <tr>\n",
       "      <th>3</th>\n",
       "      <td>自豪</td>\n",
       "      <td>傲慢</td>\n",
       "      <td>2.53</td>\n",
       "      <td>0.52</td>\n",
       "      <td>2.91</td>\n",
       "      <td>1.56</td>\n",
       "    </tr>\n",
       "    <tr>\n",
       "      <th>4</th>\n",
       "      <td>愉快</td>\n",
       "      <td>快乐</td>\n",
       "      <td>6.00</td>\n",
       "      <td>0.00</td>\n",
       "      <td>4.91</td>\n",
       "      <td>1.03</td>\n",
       "    </tr>\n",
       "    <tr>\n",
       "      <th>...</th>\n",
       "      <td>...</td>\n",
       "      <td>...</td>\n",
       "      <td>...</td>\n",
       "      <td>...</td>\n",
       "      <td>...</td>\n",
       "      <td>...</td>\n",
       "    </tr>\n",
       "    <tr>\n",
       "      <th>464</th>\n",
       "      <td>离开</td>\n",
       "      <td>走开</td>\n",
       "      <td>5.20</td>\n",
       "      <td>0.41</td>\n",
       "      <td>4.09</td>\n",
       "      <td>1.32</td>\n",
       "    </tr>\n",
       "    <tr>\n",
       "      <th>465</th>\n",
       "      <td>读</td>\n",
       "      <td>理解</td>\n",
       "      <td>2.73</td>\n",
       "      <td>0.59</td>\n",
       "      <td>0.64</td>\n",
       "      <td>1.26</td>\n",
       "    </tr>\n",
       "    <tr>\n",
       "      <th>466</th>\n",
       "      <td>装作</td>\n",
       "      <td>想像</td>\n",
       "      <td>2.87</td>\n",
       "      <td>0.64</td>\n",
       "      <td>0.18</td>\n",
       "      <td>0.63</td>\n",
       "    </tr>\n",
       "    <tr>\n",
       "      <th>467</th>\n",
       "      <td>跟随</td>\n",
       "      <td>追逐</td>\n",
       "      <td>4.00</td>\n",
       "      <td>0.65</td>\n",
       "      <td>2.82</td>\n",
       "      <td>1.56</td>\n",
       "    </tr>\n",
       "    <tr>\n",
       "      <th>468</th>\n",
       "      <td>加</td>\n",
       "      <td>除</td>\n",
       "      <td>0.00</td>\n",
       "      <td>0.00</td>\n",
       "      <td>0.45</td>\n",
       "      <td>0.84</td>\n",
       "    </tr>\n",
       "  </tbody>\n",
       "</table>\n",
       "<p>469 rows × 6 columns</p>\n",
       "</div>"
      ],
      "text/plain": [
       "    word1 word2  pred_sl  pred_sd  act_sl  act_sd\n",
       "0       闷    平庸     0.00     0.00    0.91    1.14\n",
       "1      害羞    昂贵     0.00     0.00    0.00    0.00\n",
       "2      不同    正常     0.00     0.00    0.00    0.00\n",
       "3      自豪    傲慢     2.53     0.52    2.91    1.56\n",
       "4      愉快    快乐     6.00     0.00    4.91    1.03\n",
       "..    ...   ...      ...      ...     ...     ...\n",
       "464    离开    走开     5.20     0.41    4.09    1.32\n",
       "465     读    理解     2.73     0.59    0.64    1.26\n",
       "466    装作    想像     2.87     0.64    0.18    0.63\n",
       "467    跟随    追逐     4.00     0.65    2.82    1.56\n",
       "468     加     除     0.00     0.00    0.45    0.84\n",
       "\n",
       "[469 rows x 6 columns]"
      ]
     },
     "execution_count": 13,
     "metadata": {},
     "output_type": "execute_result"
    }
   ],
   "source": [
    "# Merge predicted and actual DataFrames\n",
    "merged = pd.merge(predicted, actual, on=['word1', 'word2'])\n",
    "\n",
    "# Show results\n",
    "merged"
   ]
  },
  {
   "cell_type": "code",
   "execution_count": 14,
   "metadata": {},
   "outputs": [],
   "source": [
    "merged['pred_act_gap']=merged['pred_sl']-merged['act_sl']\n",
    "merged.to_csv('f3_diff.csv')"
   ]
  },
  {
   "cell_type": "markdown",
   "metadata": {},
   "source": [
    "### **3. Descriptive Statistics**"
   ]
  },
  {
   "cell_type": "code",
   "execution_count": 16,
   "metadata": {},
   "outputs": [
    {
     "data": {
      "text/html": [
       "<div>\n",
       "<style scoped>\n",
       "    .dataframe tbody tr th:only-of-type {\n",
       "        vertical-align: middle;\n",
       "    }\n",
       "\n",
       "    .dataframe tbody tr th {\n",
       "        vertical-align: top;\n",
       "    }\n",
       "\n",
       "    .dataframe thead th {\n",
       "        text-align: right;\n",
       "    }\n",
       "</style>\n",
       "<table border=\"1\" class=\"dataframe\">\n",
       "  <thead>\n",
       "    <tr style=\"text-align: right;\">\n",
       "      <th></th>\n",
       "      <th>pred_sl</th>\n",
       "      <th>act_sl</th>\n",
       "      <th>pred_sd</th>\n",
       "      <th>act_sd</th>\n",
       "    </tr>\n",
       "  </thead>\n",
       "  <tbody>\n",
       "    <tr>\n",
       "      <th>count</th>\n",
       "      <td>469.00</td>\n",
       "      <td>469.00</td>\n",
       "      <td>469.00</td>\n",
       "      <td>469.00</td>\n",
       "    </tr>\n",
       "    <tr>\n",
       "      <th>mean</th>\n",
       "      <td>1.90</td>\n",
       "      <td>1.48</td>\n",
       "      <td>0.43</td>\n",
       "      <td>0.97</td>\n",
       "    </tr>\n",
       "    <tr>\n",
       "      <th>std</th>\n",
       "      <td>2.02</td>\n",
       "      <td>1.51</td>\n",
       "      <td>0.51</td>\n",
       "      <td>0.62</td>\n",
       "    </tr>\n",
       "    <tr>\n",
       "      <th>min</th>\n",
       "      <td>0.00</td>\n",
       "      <td>0.00</td>\n",
       "      <td>0.00</td>\n",
       "      <td>0.00</td>\n",
       "    </tr>\n",
       "    <tr>\n",
       "      <th>25%</th>\n",
       "      <td>0.00</td>\n",
       "      <td>0.18</td>\n",
       "      <td>0.00</td>\n",
       "      <td>0.42</td>\n",
       "    </tr>\n",
       "    <tr>\n",
       "      <th>50%</th>\n",
       "      <td>1.47</td>\n",
       "      <td>0.73</td>\n",
       "      <td>0.35</td>\n",
       "      <td>1.03</td>\n",
       "    </tr>\n",
       "    <tr>\n",
       "      <th>75%</th>\n",
       "      <td>3.13</td>\n",
       "      <td>2.64</td>\n",
       "      <td>0.63</td>\n",
       "      <td>1.49</td>\n",
       "    </tr>\n",
       "    <tr>\n",
       "      <th>max</th>\n",
       "      <td>6.00</td>\n",
       "      <td>5.64</td>\n",
       "      <td>2.31</td>\n",
       "      <td>2.37</td>\n",
       "    </tr>\n",
       "    <tr>\n",
       "      <th>median</th>\n",
       "      <td>1.47</td>\n",
       "      <td>0.73</td>\n",
       "      <td>0.35</td>\n",
       "      <td>1.03</td>\n",
       "    </tr>\n",
       "  </tbody>\n",
       "</table>\n",
       "</div>"
      ],
      "text/plain": [
       "        pred_sl  act_sl  pred_sd  act_sd\n",
       "count    469.00  469.00   469.00  469.00\n",
       "mean       1.90    1.48     0.43    0.97\n",
       "std        2.02    1.51     0.51    0.62\n",
       "min        0.00    0.00     0.00    0.00\n",
       "25%        0.00    0.18     0.00    0.42\n",
       "50%        1.47    0.73     0.35    1.03\n",
       "75%        3.13    2.64     0.63    1.49\n",
       "max        6.00    5.64     2.31    2.37\n",
       "median     1.47    0.73     0.35    1.03"
      ]
     },
     "execution_count": 16,
     "metadata": {},
     "output_type": "execute_result"
    }
   ],
   "source": [
    "# Summary statistics MultiSimlex_CN\n",
    "pred_sl_summary = round(predicted['pred_sl'].describe(), 2)\n",
    "act_sl_summary = round(actual['act_sl'].describe(), 2)\n",
    "\n",
    "# Add median MultiSimlex_CN\n",
    "pred_sl_summary['median'] = round(predicted['pred_sl'].median(), 2)\n",
    "act_sl_summary['median'] = round(actual['act_sl'].median(), 2)\n",
    "\n",
    "# Summary statistics standard deviations\n",
    "pred_sd_summary = round(predicted['pred_sd'].describe(), 2)\n",
    "act_sd_summary = round(actual['act_sd'].describe(), 2)\n",
    "\n",
    "# Add median standard deviation\n",
    "pred_sd_summary['median'] = round(predicted['pred_sd'].median(), 2)\n",
    "act_sd_summary['median'] = round(actual['act_sd'].median(), 2)\n",
    "\n",
    "# Create pandas DataFrame\n",
    "summary_df = pd.DataFrame({\n",
    "    \"pred_sl\": pred_sl_summary,\n",
    "    \"act_sl\": act_sl_summary,\n",
    "    \"pred_sd\": pred_sd_summary,\n",
    "    \"act_sd\": act_sd_summary\n",
    "})\n",
    "\n",
    "# Show results\n",
    "summary_df"
   ]
  },
  {
   "cell_type": "markdown",
   "metadata": {},
   "source": [
    "#### **3.1. MultiSimlex_CN**"
   ]
  },
  {
   "cell_type": "code",
   "execution_count": 18,
   "metadata": {},
   "outputs": [
    {
     "data": {
      "image/png": "[encoded data removed]",
      "text/plain": [
       "<Figure size 600x600 with 1 Axes>"
      ]
     },
     "metadata": {},
     "output_type": "display_data"
    }
   ],
   "source": [
    "# Rename columns and copy\n",
    "renamed_pred_sl = predicted.rename(columns={\"pred_sl\": \"MultiSimlex_CN\"}).copy()\n",
    "renamed_act_sl = actual.rename(columns={\"act_sl\": \"MultiSimlex_CN\"}).copy()\n",
    "\n",
    "# Create dummy label\n",
    "renamed_pred_sl['Score'] = 'Predicted'\n",
    "renamed_act_sl['Score'] = 'Actual'\n",
    "\n",
    "# Combine DataFrames\n",
    "combined_data = pd.concat([renamed_pred_sl, renamed_act_sl])\n",
    "\n",
    "# Create boxplot\n",
    "plt.figure(figsize=(6, 6))\n",
    "sns.boxplot(\n",
    "    x='Score',\n",
    "    y='MultiSimlex_CN',\n",
    "    data=combined_data,\n",
    "    palette=['skyblue', 'lightgreen'],\n",
    "    boxprops={'edgecolor': 'black'},\n",
    "    whiskerprops={'color': 'black'},\n",
    "    flierprops={'marker': 'o', 'color': 'black', 'markerfacecolor': 'black'},\n",
    "    capprops={'color': 'black'},\n",
    "    medianprops={'color': 'black'}\n",
    ")\n",
    "\n",
    "# Set labels and title\n",
    "plt.ylabel('MultiSimlex_CN')\n",
    "# plt.title('Comparison of MultiSimlex_CN')\n",
    "\n",
    "# Customize y-axis ticks\n",
    "plt.gca().yaxis.set_major_locator(ticker.MaxNLocator(integer=True))\n",
    "plt.ylim(0, 6.1)  # Setting y-axis limits from 0 to 6\n",
    "\n",
    "# Remove x-axis label\n",
    "plt.xlabel('')\n",
    "\n",
    "# Adjust layout\n",
    "plt.tight_layout()\n",
    "plt.savefig(\"f3sim.png\")\n",
    "# Show results\n",
    "plt.show()"
   ]
  },
  {
   "cell_type": "markdown",
   "metadata": {},
   "source": [
    "#### **3.2. Standard Deviation**"
   ]
  },
  {
   "cell_type": "code",
   "execution_count": 38,
   "metadata": {},
   "outputs": [
    {
     "data": {
      "image/png": "[encoded data removed]",
      "text/plain": [
       "<Figure size 600x600 with 1 Axes>"
      ]
     },
     "metadata": {},
     "output_type": "display_data"
    }
   ],
   "source": [
    "# Rename columns and copy\n",
    "renamed_predicted_sd = predicted.rename(columns={\"pred_sd\": \"Standard Deviation\"}).copy()\n",
    "renamed_actual_sd = actual.rename(columns={\"act_sd\": \"Standard Deviation\"}).copy()\n",
    "\n",
    "# Create dummy label\n",
    "renamed_predicted_sd['Score'] = 'Predicted'\n",
    "renamed_actual_sd['Score'] = 'Actual'\n",
    "\n",
    "# Combine DataFrames\n",
    "combined_data = pd.concat([renamed_predicted_sd, renamed_actual_sd])\n",
    "\n",
    "# Create boxplot\n",
    "plt.figure(figsize=(6, 6))\n",
    "sns.boxplot(\n",
    "    x='Score',\n",
    "    y='Standard Deviation',\n",
    "    data=combined_data,\n",
    "    palette=['skyblue', 'lightgreen'],\n",
    "    boxprops={'edgecolor': 'black'},\n",
    "    whiskerprops={'color': 'black'},\n",
    "    flierprops={'marker': 'o', 'color': 'black', 'markerfacecolor': 'black'},\n",
    "    capprops={'color': 'black'},\n",
    "    medianprops={'color': 'black'}\n",
    ")\n",
    "\n",
    "# Set labels and title\n",
    "plt.ylabel('Standard Deviation')\n",
    "# plt.title('Comparison of Standard Deviation')\n",
    "\n",
    "# Customizing y-axis ticks\n",
    "plt.gca().yaxis.set_major_locator(ticker.MaxNLocator(integer=True))\n",
    "plt.ylim(0, 3)  # Setting y-axis limits from 0 to 3\n",
    "\n",
    "# Remove x-axis label\n",
    "plt.xlabel('')\n",
    "\n",
    "# Adjust layout\n",
    "plt.tight_layout()\n",
    "plt.savefig(\"f3sd.png\")\n",
    "# Show results\n",
    "plt.show()"
   ]
  },
  {
   "cell_type": "markdown",
   "metadata": {},
   "source": [
    "### **4. Distributions**"
   ]
  },
  {
   "cell_type": "markdown",
   "metadata": {},
   "source": [
    "#### **4.1. MultiSimlex_CN**"
   ]
  },
  {
   "cell_type": "code",
   "execution_count": 25,
   "metadata": {},
   "outputs": [
    {
     "data": {
      "image/png": "[encoded data removed]",
      "text/plain": [
       "<Figure size 1000x400 with 2 Axes>"
      ]
     },
     "metadata": {},
     "output_type": "display_data"
    }
   ],
   "source": [
    "# Create figure with two subplots\n",
    "fig, axes = plt.subplots(1, 2, figsize=(10, 4))\n",
    "\n",
    "# Define x-axis limits\n",
    "x_min = 0\n",
    "x_max = 6\n",
    "\n",
    "# Define bins\n",
    "bins = 6\n",
    "\n",
    "# Plot predicted histogram\n",
    "axes[0].hist(renamed_pred_sl['MultiSimlex_CN'], bins=bins, edgecolor='black', color='skyblue')\n",
    "axes[0].set_title('Predicted')\n",
    "axes[0].set_xlabel('MultiSimlex_CN')\n",
    "axes[0].set_ylabel('Frequency')\n",
    "axes[0].set_xlim(x_min, x_max)\n",
    "axes[0].xaxis.set_major_locator(ticker.MaxNLocator(integer=True))\n",
    "axes[0].grid(False) # Remove grid\n",
    "\n",
    "# Plot actual histogram\n",
    "axes[1].hist(renamed_act_sl['MultiSimlex_CN'], bins=bins, edgecolor='black', color='lightgreen')\n",
    "axes[1].set_title('Actual')\n",
    "axes[1].set_xlabel('MultiSimlex_CN')\n",
    "axes[1].set_ylabel('Frequency')\n",
    "axes[1].set_xlim(x_min, x_max)\n",
    "axes[1].xaxis.set_major_locator(ticker.MaxNLocator(integer=True))\n",
    "axes[1].grid(False) # Remove grid\n",
    "\n",
    "# Adjust layout\n",
    "plt.tight_layout()\n",
    "# Show results\n",
    "plt.show()"
   ]
  },
  {
   "cell_type": "markdown",
   "metadata": {},
   "source": [
    "#### **4.2. Standard Deviation**"
   ]
  },
  {
   "cell_type": "code",
   "execution_count": 27,
   "metadata": {},
   "outputs": [
    {
     "data": {
      "image/png": "[encoded data removed]",
      "text/plain": [
       "<Figure size 1000x400 with 2 Axes>"
      ]
     },
     "metadata": {},
     "output_type": "display_data"
    }
   ],
   "source": [
    "# Create figure with two subplots\n",
    "fig, axes = plt.subplots(1, 2, figsize=(10, 4))\n",
    "\n",
    "# Define x-axis limits\n",
    "x_min = 0\n",
    "x_max = 3\n",
    "\n",
    "# Define bins\n",
    "bins = 3\n",
    "\n",
    "# Plot predicted histogram\n",
    "axes[0].hist(renamed_predicted_sd['Standard Deviation'], bins=bins, edgecolor='black', color='skyblue')\n",
    "axes[0].set_title('Predicted')\n",
    "axes[0].set_xlabel('Standard Deviation')\n",
    "axes[0].set_ylabel('Frequency')\n",
    "axes[0].set_xlim(x_min, x_max)\n",
    "axes[0].xaxis.set_major_locator(ticker.MaxNLocator(integer=True))\n",
    "axes[0].grid(False) # Remove grid\n",
    "\n",
    "# Plot actual histogram\n",
    "axes[1].hist(renamed_actual_sd['Standard Deviation'], bins=bins, edgecolor='black', color='lightgreen')\n",
    "axes[1].set_title('Actual')\n",
    "axes[1].set_xlabel('Standard Deviation')\n",
    "axes[1].set_ylabel('Frequency')\n",
    "axes[1].set_xlim(x_min, x_max)\n",
    "axes[1].xaxis.set_major_locator(ticker.MaxNLocator(integer=True))\n",
    "axes[1].grid(False) # Remove grid\n",
    "\n",
    "# Adjust layout\n",
    "plt.tight_layout()\n",
    "\n",
    "# Show results\n",
    "plt.show()"
   ]
  },
  {
   "cell_type": "markdown",
   "metadata": {},
   "source": [
    "### **5. Outliers**"
   ]
  },
  {
   "cell_type": "markdown",
   "metadata": {},
   "source": [
    "#### **5.1. Predicted**"
   ]
  },
  {
   "cell_type": "code",
   "execution_count": 30,
   "metadata": {},
   "outputs": [
    {
     "name": "stdout",
     "output_type": "stream",
     "text": [
      "Outliers in pred_sd: 31\n",
      "No outliers found in columns: pred_sl\n"
     ]
    }
   ],
   "source": [
    "# Count outliers\n",
    "print_outlier_counts(predicted)"
   ]
  },
  {
   "cell_type": "code",
   "execution_count": 31,
   "metadata": {},
   "outputs": [
    {
     "name": "stdout",
     "output_type": "stream",
     "text": [
      "\n",
      "Outliers in pred_sd:\n",
      "    word1   word2  pred_sl  pred_sd\n",
      "26     婚外  不可說出口的     3.73     2.31\n",
      "31     灵活      松动     2.33     1.68\n",
      "39     非法     不道德     3.73     1.94\n",
      "41     粗糙      丑陋     2.33     1.68\n",
      "44     容易      灵活     2.33     1.68\n",
      "45     满载      沉重     2.67     1.88\n",
      "47     中性   未拿定主意     2.53     1.73\n",
      "59    不同的     奇怪地     3.60     1.92\n",
      "97      床      家俱     4.67     1.80\n",
      "98      诗      韵律     4.67     1.80\n",
      "100    岩浆      火山     4.67     1.80\n",
      "102   奖学金      学费     2.73     2.09\n",
      "104     泡    肥皂泡沫     4.67     1.80\n",
      "106    校园      大学     2.33     1.80\n",
      "107     锡      金属     4.67     1.80\n",
      "110    日期      日历     3.33     2.16\n",
      "116    苹果      柠檬     3.33     2.16\n",
      "118    走道      大厅     1.93     1.58\n",
      "119    红酒       酒     4.33     1.99\n",
      "177    侵略      敌意     2.40     1.64\n",
      "179   滑雪板      滑雪     2.40     1.64\n",
      "181    蔗糖      糖类     3.20     1.93\n",
      "189    乐队    管弦乐队     4.00     1.85\n",
      "191    荣誉      敬重     2.53     1.68\n",
      "197    苍蝇      蚂蚁     4.80     2.08\n",
      "293    犯罪      违反     3.33     1.72\n",
      "318    公司      企业     4.60     1.68\n",
      "333    电线      软线     3.67     2.29\n",
      "431    承诺      发誓     3.13     2.00\n",
      "441    珍爱      保持     2.47     1.85\n",
      "443    装作      似乎     3.80     2.01\n"
     ]
    }
   ],
   "source": [
    "# Row outliers\n",
    "print_outlier_data(predicted, 'pred_sd')"
   ]
  },
  {
   "cell_type": "markdown",
   "metadata": {},
   "source": [
    "#### **5.2. Actual**"
   ]
  },
  {
   "cell_type": "code",
   "execution_count": 33,
   "metadata": {},
   "outputs": [
    {
     "name": "stdout",
     "output_type": "stream",
     "text": [
      "No outliers found in columns: act_sl, act_sd\n"
     ]
    }
   ],
   "source": [
    "# Count outliers\n",
    "print_outlier_counts(actual)"
   ]
  },
  {
   "cell_type": "code",
   "execution_count": 34,
   "metadata": {},
   "outputs": [
    {
     "name": "stdout",
     "output_type": "stream",
     "text": [
      "No outliers found in act_sd\n"
     ]
    }
   ],
   "source": [
    "# Row outliers\n",
    "print_outlier_data(actual, 'act_sd')"
   ]
  },
  {
   "cell_type": "markdown",
   "metadata": {},
   "source": [
    "#### **5.3. Add to Summary**"
   ]
  },
  {
   "cell_type": "code",
   "execution_count": 36,
   "metadata": {},
   "outputs": [
    {
     "data": {
      "text/html": [
       "<div>\n",
       "<style scoped>\n",
       "    .dataframe tbody tr th:only-of-type {\n",
       "        vertical-align: middle;\n",
       "    }\n",
       "\n",
       "    .dataframe tbody tr th {\n",
       "        vertical-align: top;\n",
       "    }\n",
       "\n",
       "    .dataframe thead th {\n",
       "        text-align: right;\n",
       "    }\n",
       "</style>\n",
       "<table border=\"1\" class=\"dataframe\">\n",
       "  <thead>\n",
       "    <tr style=\"text-align: right;\">\n",
       "      <th></th>\n",
       "      <th>pred_sl</th>\n",
       "      <th>act_sl</th>\n",
       "      <th>pred_sd</th>\n",
       "      <th>act_sd</th>\n",
       "    </tr>\n",
       "  </thead>\n",
       "  <tbody>\n",
       "    <tr>\n",
       "      <th>count</th>\n",
       "      <td>469.00</td>\n",
       "      <td>469.00</td>\n",
       "      <td>469.00</td>\n",
       "      <td>469.00</td>\n",
       "    </tr>\n",
       "    <tr>\n",
       "      <th>mean</th>\n",
       "      <td>1.90</td>\n",
       "      <td>1.48</td>\n",
       "      <td>0.43</td>\n",
       "      <td>0.97</td>\n",
       "    </tr>\n",
       "    <tr>\n",
       "      <th>std</th>\n",
       "      <td>2.02</td>\n",
       "      <td>1.51</td>\n",
       "      <td>0.51</td>\n",
       "      <td>0.62</td>\n",
       "    </tr>\n",
       "    <tr>\n",
       "      <th>min</th>\n",
       "      <td>0.00</td>\n",
       "      <td>0.00</td>\n",
       "      <td>0.00</td>\n",
       "      <td>0.00</td>\n",
       "    </tr>\n",
       "    <tr>\n",
       "      <th>25%</th>\n",
       "      <td>0.00</td>\n",
       "      <td>0.18</td>\n",
       "      <td>0.00</td>\n",
       "      <td>0.42</td>\n",
       "    </tr>\n",
       "    <tr>\n",
       "      <th>50%</th>\n",
       "      <td>1.47</td>\n",
       "      <td>0.73</td>\n",
       "      <td>0.35</td>\n",
       "      <td>1.03</td>\n",
       "    </tr>\n",
       "    <tr>\n",
       "      <th>75%</th>\n",
       "      <td>3.13</td>\n",
       "      <td>2.64</td>\n",
       "      <td>0.63</td>\n",
       "      <td>1.49</td>\n",
       "    </tr>\n",
       "    <tr>\n",
       "      <th>max</th>\n",
       "      <td>6.00</td>\n",
       "      <td>5.64</td>\n",
       "      <td>2.31</td>\n",
       "      <td>2.37</td>\n",
       "    </tr>\n",
       "    <tr>\n",
       "      <th>median</th>\n",
       "      <td>1.47</td>\n",
       "      <td>0.73</td>\n",
       "      <td>0.35</td>\n",
       "      <td>1.03</td>\n",
       "    </tr>\n",
       "    <tr>\n",
       "      <th>outliers</th>\n",
       "      <td>0.00</td>\n",
       "      <td>0.00</td>\n",
       "      <td>31.00</td>\n",
       "      <td>0.00</td>\n",
       "    </tr>\n",
       "  </tbody>\n",
       "</table>\n",
       "</div>"
      ],
      "text/plain": [
       "          pred_sl  act_sl  pred_sd  act_sd\n",
       "count      469.00  469.00   469.00  469.00\n",
       "mean         1.90    1.48     0.43    0.97\n",
       "std          2.02    1.51     0.51    0.62\n",
       "min          0.00    0.00     0.00    0.00\n",
       "25%          0.00    0.18     0.00    0.42\n",
       "50%          1.47    0.73     0.35    1.03\n",
       "75%          3.13    2.64     0.63    1.49\n",
       "max          6.00    5.64     2.31    2.37\n",
       "median       1.47    0.73     0.35    1.03\n",
       "outliers     0.00    0.00    31.00    0.00"
      ]
     },
     "execution_count": 36,
     "metadata": {},
     "output_type": "execute_result"
    }
   ],
   "source": [
    "# Calculate outliers\n",
    "outliers_pred_sl = calculate_outliers(predicted, 'pred_sl')\n",
    "outliers_pred_sd = calculate_outliers(predicted, 'pred_sd')\n",
    "outliers_act_sl = calculate_outliers(actual, 'act_sl')\n",
    "outliers_act_sd = calculate_outliers(actual, 'act_sd')\n",
    "\n",
    "# Count outliers\n",
    "count_outliers_pred_sl = outliers_pred_sl.shape[0]\n",
    "count_outliers_pred_sd = outliers_pred_sd.shape[0]\n",
    "count_outliers_act_sl = outliers_act_sl.shape[0]\n",
    "count_outliers_act_sd = outliers_act_sd.shape[0]\n",
    "\n",
    "# Add outliers count to summary\n",
    "outliers_row = pd.Series([count_outliers_pred_sl, count_outliers_act_sl, count_outliers_pred_sd, count_outliers_act_sd], \n",
    "    index=summary_df.columns,\n",
    "    name='outliers'\n",
    ")\n",
    "summary_df = pd.concat([summary_df, outliers_row.to_frame().T])\n",
    "\n",
    "# Show results\n",
    "summary_df"
   ]
  },
  {
   "cell_type": "markdown",
   "metadata": {},
   "source": [
    "### **6. Correlation**"
   ]
  },
  {
   "cell_type": "markdown",
   "metadata": {},
   "source": [
    "#### **6.1. MultiSimlex_CN vs Standard Deviation**"
   ]
  },
  {
   "cell_type": "code",
   "execution_count": 39,
   "metadata": {},
   "outputs": [
    {
     "data": {
      "image/png": "[encoded data removed]",
      "text/plain": [
       "<Figure size 1000x400 with 2 Axes>"
      ]
     },
     "metadata": {},
     "output_type": "display_data"
    }
   ],
   "source": [
    "# Create figure with two subplots\n",
    "fig, axes = plt.subplots(1, 2, figsize=(10, 4))\n",
    "\n",
    "# Define x-axis limits\n",
    "x_min = 0\n",
    "x_max = 6.1\n",
    "y_min = 0\n",
    "y_max = 3.0\n",
    "\n",
    "# Create scatter plot\n",
    "sns.scatterplot(x='pred_sl', y='pred_sd', data=predicted, ax=axes[0], color='skyblue', edgecolor='black')\n",
    "\n",
    "# Plot diagonal line\n",
    "axes[0].plot([x_min, x_max], [y_min, y_max], color='red', linestyle='--')\n",
    "\n",
    "# Set axis limits\n",
    "axes[0].set_xlim(x_min, x_max)\n",
    "axes[0].set_ylim(y_min, y_max)\n",
    "\n",
    "# Set labels and title\n",
    "axes[0].set_xlabel('MultiSimlex_CN')\n",
    "axes[0].set_ylabel('Standard Deviation')\n",
    "axes[0].set_title('Predicted')\n",
    "\n",
    "# Remove grid\n",
    "axes[0].grid(False)\n",
    "\n",
    "# Create scatter plot\n",
    "sns.scatterplot(x='act_sl', y='act_sd', data=actual, ax=axes[1], color='lightgreen', edgecolor='black')\n",
    "\n",
    "# Plot diagonal line\n",
    "axes[1].plot([x_min, x_max], [y_min, y_max], color='red', linestyle='--')\n",
    "\n",
    "# Set axis limits\n",
    "axes[1].set_xlim(x_min, x_max)\n",
    "axes[1].set_ylim(y_min, y_max)\n",
    "\n",
    "# Set labels and title\n",
    "axes[1].set_xlabel('MultiSimlex_CN')\n",
    "axes[1].set_ylabel('Standard Deviation')\n",
    "axes[1].set_title('Actual')\n",
    "\n",
    "# Remove grid\n",
    "axes[1].grid(False)\n",
    "\n",
    "# Adjust layout\n",
    "plt.tight_layout()\n",
    "\n",
    "# Show results\n",
    "plt.show()"
   ]
  },
  {
   "cell_type": "code",
   "execution_count": 40,
   "metadata": {},
   "outputs": [
    {
     "data": {
      "text/html": [
       "<div>\n",
       "<style scoped>\n",
       "    .dataframe tbody tr th:only-of-type {\n",
       "        vertical-align: middle;\n",
       "    }\n",
       "\n",
       "    .dataframe tbody tr th {\n",
       "        vertical-align: top;\n",
       "    }\n",
       "\n",
       "    .dataframe thead th {\n",
       "        text-align: right;\n",
       "    }\n",
       "</style>\n",
       "<table border=\"1\" class=\"dataframe\">\n",
       "  <thead>\n",
       "    <tr style=\"text-align: right;\">\n",
       "      <th></th>\n",
       "      <th>simlex999</th>\n",
       "      <th>standard_deviation</th>\n",
       "      <th>correlation</th>\n",
       "      <th>p_value</th>\n",
       "      <th>significance</th>\n",
       "    </tr>\n",
       "  </thead>\n",
       "  <tbody>\n",
       "    <tr>\n",
       "      <th>0</th>\n",
       "      <td>pred_sl</td>\n",
       "      <td>pred_sd</td>\n",
       "      <td>0.53518</td>\n",
       "      <td>4.125825e-36</td>\n",
       "      <td>significant</td>\n",
       "    </tr>\n",
       "    <tr>\n",
       "      <th>1</th>\n",
       "      <td>act_sl</td>\n",
       "      <td>act_sd</td>\n",
       "      <td>0.75833</td>\n",
       "      <td>7.948940e-89</td>\n",
       "      <td>significant</td>\n",
       "    </tr>\n",
       "  </tbody>\n",
       "</table>\n",
       "</div>"
      ],
      "text/plain": [
       "  simlex999 standard_deviation  correlation       p_value significance\n",
       "0   pred_sl            pred_sd      0.53518  4.125825e-36  significant\n",
       "1    act_sl             act_sd      0.75833  7.948940e-89  significant"
      ]
     },
     "execution_count": 40,
     "metadata": {},
     "output_type": "execute_result"
    }
   ],
   "source": [
    "# List to store correlations\n",
    "correlations_list = []\n",
    "\n",
    "# Append correlations to list\n",
    "correlations_list.append(calculate_correlation_and_pvalue(merged, 'pred_sl', 'pred_sd'))\n",
    "correlations_list.append(calculate_correlation_and_pvalue(merged, 'act_sl', 'act_sd'))\n",
    "\n",
    "# Convert list into Pandas DataFrame\n",
    "correlation_df = pd.DataFrame(correlations_list)\n",
    "\n",
    "# Show results\n",
    "correlation_df"
   ]
  },
  {
   "cell_type": "markdown",
   "metadata": {},
   "source": [
    "### **7. Evaluation Metrics**"
   ]
  },
  {
   "cell_type": "markdown",
   "metadata": {},
   "source": [
    "#### **7.1. Spearmans's Rank Correlation**"
   ]
  },
  {
   "cell_type": "markdown",
   "metadata": {},
   "source": [
    "##### **7.1.1. Actual MultiSimlex_CN vs Predicted MultiSimlex_CN**"
   ]
  },
  {
   "cell_type": "code",
   "execution_count": 44,
   "metadata": {},
   "outputs": [
    {
     "data": {
      "image/png": "[encoded data removed]",
      "text/plain": [
       "<Figure size 700x500 with 1 Axes>"
      ]
     },
     "metadata": {},
     "output_type": "display_data"
    }
   ],
   "source": [
    "# Scatter plot\n",
    "plot_scatter_plot(merged, 'pred_sl', 'act_sl', 'Predicted MultiSimlex_CN', 'Actual MultiSimlex_CN', 0, 6.1, 0, 6.1)"
   ]
  },
  {
   "cell_type": "code",
   "execution_count": 45,
   "metadata": {},
   "outputs": [
    {
     "name": "stdout",
     "output_type": "stream",
     "text": [
      "Spearman's Rank correlation: 0.80995\n",
      "P-value: 2.7425192602519884e-110\n",
      "The correlation is statistically significant.\n",
      "\n"
     ]
    }
   ],
   "source": [
    "# Correlation and pvalue\n",
    "print_correlation_and_pvalue(merged, 'pred_sl', 'act_sl')"
   ]
  },
  {
   "cell_type": "code",
   "execution_count": 46,
   "metadata": {},
   "outputs": [
    {
     "name": "stdout",
     "output_type": "stream",
     "text": [
      "Kendall’s Tau correlation: 0.64159\n",
      "P-value: 8.536253403667463e-84\n",
      "The correlation is statistically significant.\n",
      "\n"
     ]
    }
   ],
   "source": [
    "print_tau_correlation_and_pvalue(merged, 'pred_sl', 'act_sl')"
   ]
  },
  {
   "cell_type": "code",
   "execution_count": 47,
   "metadata": {},
   "outputs": [
    {
     "name": "stdout",
     "output_type": "stream",
     "text": [
      "Distance Correlation: 0.77079\n",
      "P-value: 0.000999000999000999\n",
      "The correlation is statistically significant.\n",
      "\n"
     ]
    },
    {
     "name": "stderr",
     "output_type": "stream",
     "text": [
      "C:\\Users\\38155\\AppData\\Local\\Temp\\ipykernel_20512\\692413257.py:19: DeprecationWarning: Attribute \"p_value\" deprecated, use \"pvalue\" instead.\n",
      "  ).p_value\n"
     ]
    },
    {
     "data": {
      "text/plain": [
       "(0.770789107045252, 0.000999000999000999)"
      ]
     },
     "execution_count": 47,
     "metadata": {},
     "output_type": "execute_result"
    }
   ],
   "source": [
    "print_distance_correlation_and_pvalue(merged, 'pred_sl', 'act_sl',random_state=42)"
   ]
  },
  {
   "cell_type": "code",
   "execution_count": 91,
   "metadata": {},
   "outputs": [
    {
     "name": "stdout",
     "output_type": "stream",
     "text": [
      "Pearson's correlation: 0.79803\n",
      "P-value: 8.804588288289379e-105\n",
      "The correlation is statistically significant.\n",
      "\n"
     ]
    }
   ],
   "source": [
    "print_pearson_correlation_and_pvalue(merged, 'pred_sl', 'act_sl')"
   ]
  },
  {
   "cell_type": "markdown",
   "metadata": {},
   "source": [
    "##### **7.1.2. Actual Standard Deviation vs Predicted Standard Deviation**"
   ]
  },
  {
   "cell_type": "code",
   "execution_count": 49,
   "metadata": {},
   "outputs": [
    {
     "data": {
      "image/png": "[encoded data removed]",
      "text/plain": [
       "<Figure size 700x500 with 1 Axes>"
      ]
     },
     "metadata": {},
     "output_type": "display_data"
    }
   ],
   "source": [
    "# Scatter plot\n",
    "plot_scatter_plot(merged, 'pred_sd', 'act_sd', 'Predicted Standard Deviation', 'Actual Standard Deviation', 0, 3, 0, 3)"
   ]
  },
  {
   "cell_type": "code",
   "execution_count": 50,
   "metadata": {},
   "outputs": [
    {
     "name": "stdout",
     "output_type": "stream",
     "text": [
      "Spearman's Rank correlation: 0.4691\n",
      "P-value: 4.886939528959532e-27\n",
      "The correlation is statistically significant.\n",
      "\n"
     ]
    }
   ],
   "source": [
    "# Correlation and p-value\n",
    "print_correlation_and_pvalue(merged, 'pred_sd', 'act_sd')"
   ]
  },
  {
   "cell_type": "code",
   "execution_count": 51,
   "metadata": {},
   "outputs": [
    {
     "name": "stdout",
     "output_type": "stream",
     "text": [
      "Kendall’s Tau correlation: 0.34339\n",
      "P-value: 2.042415063524606e-24\n",
      "The correlation is statistically significant.\n",
      "\n"
     ]
    }
   ],
   "source": [
    "print_tau_correlation_and_pvalue(merged, 'pred_sd', 'act_sd')"
   ]
  },
  {
   "cell_type": "code",
   "execution_count": 52,
   "metadata": {},
   "outputs": [
    {
     "name": "stdout",
     "output_type": "stream",
     "text": [
      "Distance Correlation: 0.46596\n",
      "P-value: 0.000999000999000999\n",
      "The correlation is statistically significant.\n",
      "\n"
     ]
    },
    {
     "name": "stderr",
     "output_type": "stream",
     "text": [
      "C:\\Users\\38155\\AppData\\Local\\Temp\\ipykernel_20512\\692413257.py:19: DeprecationWarning: Attribute \"p_value\" deprecated, use \"pvalue\" instead.\n",
      "  ).p_value\n"
     ]
    },
    {
     "data": {
      "text/plain": [
       "(0.46596050035121367, 0.000999000999000999)"
      ]
     },
     "execution_count": 52,
     "metadata": {},
     "output_type": "execute_result"
    }
   ],
   "source": [
    "print_distance_correlation_and_pvalue(merged, 'pred_sd', 'act_sd',random_state=42)"
   ]
  },
  {
   "cell_type": "code",
   "execution_count": 53,
   "metadata": {},
   "outputs": [
    {
     "name": "stdout",
     "output_type": "stream",
     "text": [
      "Pearson's correlation: 0.39036\n",
      "P-value: 1.604947225201642e-18\n",
      "The correlation is statistically significant.\n",
      "\n"
     ]
    }
   ],
   "source": [
    "print_pearson_correlation_and_pvalue(merged, 'pred_sd', 'act_sd')"
   ]
  },
  {
   "cell_type": "markdown",
   "metadata": {},
   "source": [
    "#### **7.2. Mean Square Error (MSE)**"
   ]
  },
  {
   "cell_type": "code",
   "execution_count": 55,
   "metadata": {},
   "outputs": [
    {
     "name": "stdout",
     "output_type": "stream",
     "text": [
      "Mean Squared Error (MSE): 1.68\n"
     ]
    }
   ],
   "source": [
    "# Calculate Mean Squared Error\n",
    "mse = mean_squared_error(merged['pred_sl'], merged['act_sl'])\n",
    "\n",
    "# Show results\n",
    "print(f\"Mean Squared Error (MSE): {mse:.2f}\")"
   ]
  },
  {
   "cell_type": "markdown",
   "metadata": {},
   "source": [
    "#### **7.3. Mean Absolute Error (MAE)**"
   ]
  },
  {
   "cell_type": "code",
   "execution_count": 57,
   "metadata": {},
   "outputs": [
    {
     "name": "stdout",
     "output_type": "stream",
     "text": [
      "Mean Absolute Error (MAE): 0.88\n"
     ]
    }
   ],
   "source": [
    "# Calculate Mean Absolute Error\n",
    "mae = mean_absolute_error(merged['pred_sl'], merged['act_sl'])\n",
    "\n",
    "# Show results\n",
    "print(f\"Mean Absolute Error (MAE): {mae:.2f}\")"
   ]
  }
 ],
 "metadata": {
  "kernelspec": {
   "display_name": "Python 3 (ipykernel)",
   "language": "python",
   "name": "python3"
  },
  "language_info": {
   "codemirror_mode": {
    "name": "ipython",
    "version": 3
   },
   "file_extension": ".py",
   "mimetype": "text/x-python",
   "name": "python",
   "nbconvert_exporter": "python",
   "pygments_lexer": "ipython3",
   "version": "3.11.5"
  }
 },
 "nbformat": 4,
 "nbformat_minor": 4
}
