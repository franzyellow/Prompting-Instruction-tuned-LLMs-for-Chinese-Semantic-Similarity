{
 "cells": [
  {
   "cell_type": "markdown",
   "metadata": {},
   "source": [
    "### **0. Set-up**"
   ]
  },
  {
   "cell_type": "code",
   "execution_count": 3,
   "metadata": {},
   "outputs": [],
   "source": [
    "# Import libraries and utils\n",
    "%run \"utils.ipynb\""
   ]
  },
  {
   "cell_type": "code",
   "execution_count": 4,
   "metadata": {},
   "outputs": [],
   "source": [
    "# Load predicted\n",
    "raw_predicted = pd.read_csv(\"F:/work_study/ILLC/S3B1/LLM project/implementation/doubao/f9.csv\")\n",
    "\n",
    "# Load actual\n",
    "raw_actual = pd.read_csv(\"F:/work_study/ILLC/S3B1/LLM project/implementation/f9_samples.csv\")"
   ]
  },
  {
   "cell_type": "code",
   "execution_count": 5,
   "metadata": {},
   "outputs": [
    {
     "data": {
      "text/html": [
       "<div>\n",
       "<style scoped>\n",
       "    .dataframe tbody tr th:only-of-type {\n",
       "        vertical-align: middle;\n",
       "    }\n",
       "\n",
       "    .dataframe tbody tr th {\n",
       "        vertical-align: top;\n",
       "    }\n",
       "\n",
       "    .dataframe thead th {\n",
       "        text-align: right;\n",
       "    }\n",
       "</style>\n",
       "<table border=\"1\" class=\"dataframe\">\n",
       "  <thead>\n",
       "    <tr style=\"text-align: right;\">\n",
       "      <th></th>\n",
       "      <th>word1</th>\n",
       "      <th>word2</th>\n",
       "      <th>similarity_score_1</th>\n",
       "      <th>similarity_score_2</th>\n",
       "      <th>similarity_score_3</th>\n",
       "      <th>similarity_score_4</th>\n",
       "      <th>similarity_score_5</th>\n",
       "      <th>similarity_score_6</th>\n",
       "      <th>similarity_score_7</th>\n",
       "      <th>similarity_score_8</th>\n",
       "      <th>similarity_score_9</th>\n",
       "      <th>similarity_score_10</th>\n",
       "      <th>similarity_score_11</th>\n",
       "      <th>similarity_score_12</th>\n",
       "      <th>similarity_score_13</th>\n",
       "      <th>similarity_score_14</th>\n",
       "      <th>similarity_score_15</th>\n",
       "    </tr>\n",
       "  </thead>\n",
       "  <tbody>\n",
       "    <tr>\n",
       "      <th>0</th>\n",
       "      <td>开心</td>\n",
       "      <td>高兴</td>\n",
       "      <td>6.0</td>\n",
       "      <td>6.0</td>\n",
       "      <td>6.0</td>\n",
       "      <td>6.0</td>\n",
       "      <td>6.0</td>\n",
       "      <td>6.0</td>\n",
       "      <td>6.0</td>\n",
       "      <td>6.0</td>\n",
       "      <td>6.0</td>\n",
       "      <td>6.0</td>\n",
       "      <td>6.0</td>\n",
       "      <td>6.0</td>\n",
       "      <td>6.0</td>\n",
       "      <td>6.0</td>\n",
       "      <td>6.0</td>\n",
       "    </tr>\n",
       "    <tr>\n",
       "      <th>1</th>\n",
       "      <td>孩子气</td>\n",
       "      <td>傻</td>\n",
       "      <td>0.0</td>\n",
       "      <td>0.0</td>\n",
       "      <td>2.0</td>\n",
       "      <td>2.0</td>\n",
       "      <td>0.0</td>\n",
       "      <td>2.0</td>\n",
       "      <td>0.0</td>\n",
       "      <td>1.0</td>\n",
       "      <td>0.0</td>\n",
       "      <td>1.0</td>\n",
       "      <td>0.0</td>\n",
       "      <td>2.0</td>\n",
       "      <td>2.0</td>\n",
       "      <td>1.0</td>\n",
       "      <td>1.0</td>\n",
       "    </tr>\n",
       "    <tr>\n",
       "      <th>2</th>\n",
       "      <td>生病</td>\n",
       "      <td>疯</td>\n",
       "      <td>0.0</td>\n",
       "      <td>0.0</td>\n",
       "      <td>0.0</td>\n",
       "      <td>0.0</td>\n",
       "      <td>0.0</td>\n",
       "      <td>0.0</td>\n",
       "      <td>0.0</td>\n",
       "      <td>0.0</td>\n",
       "      <td>0.0</td>\n",
       "      <td>0.0</td>\n",
       "      <td>0.0</td>\n",
       "      <td>0.0</td>\n",
       "      <td>0.0</td>\n",
       "      <td>0.0</td>\n",
       "      <td>0.0</td>\n",
       "    </tr>\n",
       "    <tr>\n",
       "      <th>3</th>\n",
       "      <td>残忍</td>\n",
       "      <td>不公平</td>\n",
       "      <td>0.0</td>\n",
       "      <td>0.0</td>\n",
       "      <td>0.0</td>\n",
       "      <td>0.0</td>\n",
       "      <td>0.0</td>\n",
       "      <td>0.0</td>\n",
       "      <td>0.0</td>\n",
       "      <td>0.0</td>\n",
       "      <td>0.0</td>\n",
       "      <td>0.0</td>\n",
       "      <td>0.0</td>\n",
       "      <td>0.0</td>\n",
       "      <td>0.0</td>\n",
       "      <td>0.0</td>\n",
       "      <td>0.0</td>\n",
       "    </tr>\n",
       "    <tr>\n",
       "      <th>4</th>\n",
       "      <td>怪诞</td>\n",
       "      <td>奇怪</td>\n",
       "      <td>5.0</td>\n",
       "      <td>5.0</td>\n",
       "      <td>5.0</td>\n",
       "      <td>4.0</td>\n",
       "      <td>4.0</td>\n",
       "      <td>5.0</td>\n",
       "      <td>4.0</td>\n",
       "      <td>5.0</td>\n",
       "      <td>5.0</td>\n",
       "      <td>5.0</td>\n",
       "      <td>4.0</td>\n",
       "      <td>4.0</td>\n",
       "      <td>4.0</td>\n",
       "      <td>5.0</td>\n",
       "      <td>4.0</td>\n",
       "    </tr>\n",
       "    <tr>\n",
       "      <th>...</th>\n",
       "      <td>...</td>\n",
       "      <td>...</td>\n",
       "      <td>...</td>\n",
       "      <td>...</td>\n",
       "      <td>...</td>\n",
       "      <td>...</td>\n",
       "      <td>...</td>\n",
       "      <td>...</td>\n",
       "      <td>...</td>\n",
       "      <td>...</td>\n",
       "      <td>...</td>\n",
       "      <td>...</td>\n",
       "      <td>...</td>\n",
       "      <td>...</td>\n",
       "      <td>...</td>\n",
       "      <td>...</td>\n",
       "      <td>...</td>\n",
       "    </tr>\n",
       "    <tr>\n",
       "      <th>113</th>\n",
       "      <td>做</td>\n",
       "      <td>赚</td>\n",
       "      <td>0.0</td>\n",
       "      <td>0.0</td>\n",
       "      <td>0.0</td>\n",
       "      <td>0.0</td>\n",
       "      <td>0.0</td>\n",
       "      <td>0.0</td>\n",
       "      <td>0.0</td>\n",
       "      <td>0.0</td>\n",
       "      <td>0.0</td>\n",
       "      <td>0.0</td>\n",
       "      <td>0.0</td>\n",
       "      <td>0.0</td>\n",
       "      <td>0.0</td>\n",
       "      <td>0.0</td>\n",
       "      <td>0.0</td>\n",
       "    </tr>\n",
       "    <tr>\n",
       "      <th>114</th>\n",
       "      <td>赦免</td>\n",
       "      <td>原谅</td>\n",
       "      <td>4.0</td>\n",
       "      <td>4.0</td>\n",
       "      <td>4.0</td>\n",
       "      <td>4.0</td>\n",
       "      <td>4.0</td>\n",
       "      <td>4.0</td>\n",
       "      <td>4.0</td>\n",
       "      <td>3.0</td>\n",
       "      <td>4.0</td>\n",
       "      <td>4.0</td>\n",
       "      <td>3.0</td>\n",
       "      <td>4.0</td>\n",
       "      <td>3.0</td>\n",
       "      <td>3.0</td>\n",
       "      <td>4.0</td>\n",
       "    </tr>\n",
       "    <tr>\n",
       "      <th>115</th>\n",
       "      <td>敬礼</td>\n",
       "      <td>演出</td>\n",
       "      <td>0.0</td>\n",
       "      <td>0.0</td>\n",
       "      <td>0.0</td>\n",
       "      <td>0.0</td>\n",
       "      <td>0.0</td>\n",
       "      <td>0.0</td>\n",
       "      <td>0.0</td>\n",
       "      <td>0.0</td>\n",
       "      <td>0.0</td>\n",
       "      <td>0.0</td>\n",
       "      <td>0.0</td>\n",
       "      <td>0.0</td>\n",
       "      <td>0.0</td>\n",
       "      <td>0.0</td>\n",
       "      <td>0.0</td>\n",
       "    </tr>\n",
       "    <tr>\n",
       "      <th>116</th>\n",
       "      <td>拖着脚走</td>\n",
       "      <td>骑</td>\n",
       "      <td>0.0</td>\n",
       "      <td>0.0</td>\n",
       "      <td>0.0</td>\n",
       "      <td>0.0</td>\n",
       "      <td>0.0</td>\n",
       "      <td>0.0</td>\n",
       "      <td>0.0</td>\n",
       "      <td>0.0</td>\n",
       "      <td>0.0</td>\n",
       "      <td>0.0</td>\n",
       "      <td>0.0</td>\n",
       "      <td>0.0</td>\n",
       "      <td>0.0</td>\n",
       "      <td>0.0</td>\n",
       "      <td>0.0</td>\n",
       "    </tr>\n",
       "    <tr>\n",
       "      <th>117</th>\n",
       "      <td>混合</td>\n",
       "      <td>联合</td>\n",
       "      <td>2.0</td>\n",
       "      <td>3.0</td>\n",
       "      <td>3.0</td>\n",
       "      <td>3.0</td>\n",
       "      <td>2.0</td>\n",
       "      <td>3.0</td>\n",
       "      <td>3.0</td>\n",
       "      <td>4.0</td>\n",
       "      <td>3.0</td>\n",
       "      <td>3.0</td>\n",
       "      <td>2.0</td>\n",
       "      <td>2.0</td>\n",
       "      <td>2.0</td>\n",
       "      <td>3.0</td>\n",
       "      <td>3.0</td>\n",
       "    </tr>\n",
       "  </tbody>\n",
       "</table>\n",
       "<p>118 rows × 17 columns</p>\n",
       "</div>"
      ],
      "text/plain": [
       "    word1 word2  similarity_score_1  similarity_score_2  similarity_score_3  \\\n",
       "0      开心    高兴                 6.0                 6.0                 6.0   \n",
       "1     孩子气     傻                 0.0                 0.0                 2.0   \n",
       "2      生病     疯                 0.0                 0.0                 0.0   \n",
       "3      残忍   不公平                 0.0                 0.0                 0.0   \n",
       "4      怪诞    奇怪                 5.0                 5.0                 5.0   \n",
       "..    ...   ...                 ...                 ...                 ...   \n",
       "113     做     赚                 0.0                 0.0                 0.0   \n",
       "114    赦免    原谅                 4.0                 4.0                 4.0   \n",
       "115    敬礼    演出                 0.0                 0.0                 0.0   \n",
       "116  拖着脚走     骑                 0.0                 0.0                 0.0   \n",
       "117    混合    联合                 2.0                 3.0                 3.0   \n",
       "\n",
       "     similarity_score_4  similarity_score_5  similarity_score_6  \\\n",
       "0                   6.0                 6.0                 6.0   \n",
       "1                   2.0                 0.0                 2.0   \n",
       "2                   0.0                 0.0                 0.0   \n",
       "3                   0.0                 0.0                 0.0   \n",
       "4                   4.0                 4.0                 5.0   \n",
       "..                  ...                 ...                 ...   \n",
       "113                 0.0                 0.0                 0.0   \n",
       "114                 4.0                 4.0                 4.0   \n",
       "115                 0.0                 0.0                 0.0   \n",
       "116                 0.0                 0.0                 0.0   \n",
       "117                 3.0                 2.0                 3.0   \n",
       "\n",
       "     similarity_score_7  similarity_score_8  similarity_score_9  \\\n",
       "0                   6.0                 6.0                 6.0   \n",
       "1                   0.0                 1.0                 0.0   \n",
       "2                   0.0                 0.0                 0.0   \n",
       "3                   0.0                 0.0                 0.0   \n",
       "4                   4.0                 5.0                 5.0   \n",
       "..                  ...                 ...                 ...   \n",
       "113                 0.0                 0.0                 0.0   \n",
       "114                 4.0                 3.0                 4.0   \n",
       "115                 0.0                 0.0                 0.0   \n",
       "116                 0.0                 0.0                 0.0   \n",
       "117                 3.0                 4.0                 3.0   \n",
       "\n",
       "     similarity_score_10  similarity_score_11  similarity_score_12  \\\n",
       "0                    6.0                  6.0                  6.0   \n",
       "1                    1.0                  0.0                  2.0   \n",
       "2                    0.0                  0.0                  0.0   \n",
       "3                    0.0                  0.0                  0.0   \n",
       "4                    5.0                  4.0                  4.0   \n",
       "..                   ...                  ...                  ...   \n",
       "113                  0.0                  0.0                  0.0   \n",
       "114                  4.0                  3.0                  4.0   \n",
       "115                  0.0                  0.0                  0.0   \n",
       "116                  0.0                  0.0                  0.0   \n",
       "117                  3.0                  2.0                  2.0   \n",
       "\n",
       "     similarity_score_13  similarity_score_14  similarity_score_15  \n",
       "0                    6.0                  6.0                  6.0  \n",
       "1                    2.0                  1.0                  1.0  \n",
       "2                    0.0                  0.0                  0.0  \n",
       "3                    0.0                  0.0                  0.0  \n",
       "4                    4.0                  5.0                  4.0  \n",
       "..                   ...                  ...                  ...  \n",
       "113                  0.0                  0.0                  0.0  \n",
       "114                  3.0                  3.0                  4.0  \n",
       "115                  0.0                  0.0                  0.0  \n",
       "116                  0.0                  0.0                  0.0  \n",
       "117                  2.0                  3.0                  3.0  \n",
       "\n",
       "[118 rows x 17 columns]"
      ]
     },
     "execution_count": 5,
     "metadata": {},
     "output_type": "execute_result"
    }
   ],
   "source": [
    "# Show results\n",
    "raw_predicted"
   ]
  },
  {
   "cell_type": "markdown",
   "metadata": {},
   "source": [
    "### **1. Data Quality**"
   ]
  },
  {
   "cell_type": "code",
   "execution_count": 7,
   "metadata": {},
   "outputs": [
    {
     "name": "stdout",
     "output_type": "stream",
     "text": [
      "<class 'pandas.core.frame.DataFrame'>\n",
      "RangeIndex: 118 entries, 0 to 117\n",
      "Data columns (total 17 columns):\n",
      " #   Column               Non-Null Count  Dtype  \n",
      "---  ------               --------------  -----  \n",
      " 0   word1                118 non-null    object \n",
      " 1   word2                118 non-null    object \n",
      " 2   similarity_score_1   118 non-null    float64\n",
      " 3   similarity_score_2   118 non-null    float64\n",
      " 4   similarity_score_3   118 non-null    float64\n",
      " 5   similarity_score_4   118 non-null    float64\n",
      " 6   similarity_score_5   118 non-null    float64\n",
      " 7   similarity_score_6   118 non-null    float64\n",
      " 8   similarity_score_7   118 non-null    float64\n",
      " 9   similarity_score_8   118 non-null    float64\n",
      " 10  similarity_score_9   118 non-null    float64\n",
      " 11  similarity_score_10  118 non-null    float64\n",
      " 12  similarity_score_11  118 non-null    float64\n",
      " 13  similarity_score_12  118 non-null    float64\n",
      " 14  similarity_score_13  118 non-null    float64\n",
      " 15  similarity_score_14  118 non-null    float64\n",
      " 16  similarity_score_15  118 non-null    float64\n",
      "dtypes: float64(15), object(2)\n",
      "memory usage: 15.8+ KB\n"
     ]
    }
   ],
   "source": [
    "# Basic info\n",
    "raw_predicted.info()"
   ]
  },
  {
   "cell_type": "code",
   "execution_count": 8,
   "metadata": {},
   "outputs": [
    {
     "data": {
      "text/plain": [
       "word1                  0\n",
       "word2                  0\n",
       "similarity_score_1     0\n",
       "similarity_score_2     0\n",
       "similarity_score_3     0\n",
       "similarity_score_4     0\n",
       "similarity_score_5     0\n",
       "similarity_score_6     0\n",
       "similarity_score_7     0\n",
       "similarity_score_8     0\n",
       "similarity_score_9     0\n",
       "similarity_score_10    0\n",
       "similarity_score_11    0\n",
       "similarity_score_12    0\n",
       "similarity_score_13    0\n",
       "similarity_score_14    0\n",
       "similarity_score_15    0\n",
       "dtype: int64"
      ]
     },
     "execution_count": 8,
     "metadata": {},
     "output_type": "execute_result"
    }
   ],
   "source": [
    "# Missing values per column\n",
    "raw_predicted.isnull().sum()"
   ]
  },
  {
   "cell_type": "code",
   "execution_count": 9,
   "metadata": {},
   "outputs": [
    {
     "name": "stdout",
     "output_type": "stream",
     "text": [
      "Word pairs in Actual are identical to Predicted: True\n",
      "No differences found\n"
     ]
    }
   ],
   "source": [
    "# Select word pairs and copy\n",
    "wordpairs_predicted = raw_predicted[['word1', 'word2']].copy()\n",
    "wordpairs_actual = raw_actual[['word1', 'word2']].copy()\n",
    "\n",
    "# Remove whitespace\n",
    "wordpairs_actual['word1'] = wordpairs_actual['word1'].replace(\" \", \"\", regex=True)\n",
    "wordpairs_actual['word2'] = wordpairs_actual['word2'].replace(\" \", \"\", regex=True)\n",
    "\n",
    "# Check if actual is identical to predicted\n",
    "are_identical = wordpairs_actual.equals(wordpairs_predicted)\n",
    "print(\"Word pairs in Actual are identical to Predicted:\", are_identical)\n",
    "\n",
    "# If not identical, show the differences\n",
    "differences = None\n",
    "if not are_identical:\n",
    "    differences = wordpairs_actual.compare(wordpairs_predicted)\n",
    "    differences.columns = ['Word1 Actual', 'Word1 Predicted', 'Word2 Actual', 'Word2 Predicted']\n",
    "\n",
    "# Show results\n",
    "differences if differences is not None else print(\"No differences found\")"
   ]
  },
  {
   "cell_type": "markdown",
   "metadata": {},
   "source": [
    "### **2. Data Processing**"
   ]
  },
  {
   "cell_type": "code",
   "execution_count": 11,
   "metadata": {},
   "outputs": [
    {
     "data": {
      "text/html": [
       "<div>\n",
       "<style scoped>\n",
       "    .dataframe tbody tr th:only-of-type {\n",
       "        vertical-align: middle;\n",
       "    }\n",
       "\n",
       "    .dataframe tbody tr th {\n",
       "        vertical-align: top;\n",
       "    }\n",
       "\n",
       "    .dataframe thead th {\n",
       "        text-align: right;\n",
       "    }\n",
       "</style>\n",
       "<table border=\"1\" class=\"dataframe\">\n",
       "  <thead>\n",
       "    <tr style=\"text-align: right;\">\n",
       "      <th></th>\n",
       "      <th>word1</th>\n",
       "      <th>word2</th>\n",
       "      <th>pred_sl</th>\n",
       "      <th>pred_sd</th>\n",
       "    </tr>\n",
       "  </thead>\n",
       "  <tbody>\n",
       "    <tr>\n",
       "      <th>0</th>\n",
       "      <td>开心</td>\n",
       "      <td>高兴</td>\n",
       "      <td>6.00</td>\n",
       "      <td>0.00</td>\n",
       "    </tr>\n",
       "    <tr>\n",
       "      <th>1</th>\n",
       "      <td>孩子气</td>\n",
       "      <td>傻</td>\n",
       "      <td>0.93</td>\n",
       "      <td>0.88</td>\n",
       "    </tr>\n",
       "    <tr>\n",
       "      <th>2</th>\n",
       "      <td>生病</td>\n",
       "      <td>疯</td>\n",
       "      <td>0.00</td>\n",
       "      <td>0.00</td>\n",
       "    </tr>\n",
       "    <tr>\n",
       "      <th>3</th>\n",
       "      <td>残忍</td>\n",
       "      <td>不公平</td>\n",
       "      <td>0.00</td>\n",
       "      <td>0.00</td>\n",
       "    </tr>\n",
       "    <tr>\n",
       "      <th>4</th>\n",
       "      <td>怪诞</td>\n",
       "      <td>奇怪</td>\n",
       "      <td>4.53</td>\n",
       "      <td>0.52</td>\n",
       "    </tr>\n",
       "    <tr>\n",
       "      <th>...</th>\n",
       "      <td>...</td>\n",
       "      <td>...</td>\n",
       "      <td>...</td>\n",
       "      <td>...</td>\n",
       "    </tr>\n",
       "    <tr>\n",
       "      <th>113</th>\n",
       "      <td>做</td>\n",
       "      <td>赚</td>\n",
       "      <td>0.00</td>\n",
       "      <td>0.00</td>\n",
       "    </tr>\n",
       "    <tr>\n",
       "      <th>114</th>\n",
       "      <td>赦免</td>\n",
       "      <td>原谅</td>\n",
       "      <td>3.73</td>\n",
       "      <td>0.46</td>\n",
       "    </tr>\n",
       "    <tr>\n",
       "      <th>115</th>\n",
       "      <td>敬礼</td>\n",
       "      <td>演出</td>\n",
       "      <td>0.00</td>\n",
       "      <td>0.00</td>\n",
       "    </tr>\n",
       "    <tr>\n",
       "      <th>116</th>\n",
       "      <td>拖着脚走</td>\n",
       "      <td>骑</td>\n",
       "      <td>0.00</td>\n",
       "      <td>0.00</td>\n",
       "    </tr>\n",
       "    <tr>\n",
       "      <th>117</th>\n",
       "      <td>混合</td>\n",
       "      <td>联合</td>\n",
       "      <td>2.73</td>\n",
       "      <td>0.59</td>\n",
       "    </tr>\n",
       "  </tbody>\n",
       "</table>\n",
       "<p>118 rows × 4 columns</p>\n",
       "</div>"
      ],
      "text/plain": [
       "    word1 word2  pred_sl  pred_sd\n",
       "0      开心    高兴     6.00     0.00\n",
       "1     孩子气     傻     0.93     0.88\n",
       "2      生病     疯     0.00     0.00\n",
       "3      残忍   不公平     0.00     0.00\n",
       "4      怪诞    奇怪     4.53     0.52\n",
       "..    ...   ...      ...      ...\n",
       "113     做     赚     0.00     0.00\n",
       "114    赦免    原谅     3.73     0.46\n",
       "115    敬礼    演出     0.00     0.00\n",
       "116  拖着脚走     骑     0.00     0.00\n",
       "117    混合    联合     2.73     0.59\n",
       "\n",
       "[118 rows x 4 columns]"
      ]
     },
     "execution_count": 11,
     "metadata": {},
     "output_type": "execute_result"
    }
   ],
   "source": [
    "# Copy dataframe\n",
    "predicted = raw_predicted.copy()\n",
    "\n",
    "# List of columns to calculate mean MultiSimlex_CN\n",
    "similarity_cols = [f\"similarity_score_{i}\" for i in range(1, 16)]\n",
    "\n",
    "# Calculate the mean MultiSimlex_CN\n",
    "predicted['pred_sl'] = predicted[similarity_cols].mean(axis=1).round(2)\n",
    "\n",
    "# Calculate the standard deviation MultiSimlex_CN\n",
    "predicted['pred_sd'] = predicted[similarity_cols].std(axis=1).round(2)\n",
    "\n",
    "# Select columns\n",
    "predicted = predicted[['word1', 'word2', 'pred_sl', 'pred_sd']]\n",
    "\n",
    "# Show results\n",
    "predicted"
   ]
  },
  {
   "cell_type": "code",
   "execution_count": 12,
   "metadata": {},
   "outputs": [
    {
     "data": {
      "text/html": [
       "<div>\n",
       "<style scoped>\n",
       "    .dataframe tbody tr th:only-of-type {\n",
       "        vertical-align: middle;\n",
       "    }\n",
       "\n",
       "    .dataframe tbody tr th {\n",
       "        vertical-align: top;\n",
       "    }\n",
       "\n",
       "    .dataframe thead th {\n",
       "        text-align: right;\n",
       "    }\n",
       "</style>\n",
       "<table border=\"1\" class=\"dataframe\">\n",
       "  <thead>\n",
       "    <tr style=\"text-align: right;\">\n",
       "      <th></th>\n",
       "      <th>word1</th>\n",
       "      <th>word2</th>\n",
       "      <th>act_sl</th>\n",
       "      <th>act_sd</th>\n",
       "    </tr>\n",
       "  </thead>\n",
       "  <tbody>\n",
       "    <tr>\n",
       "      <th>0</th>\n",
       "      <td>开心</td>\n",
       "      <td>高兴</td>\n",
       "      <td>5.55</td>\n",
       "      <td>0.53</td>\n",
       "    </tr>\n",
       "    <tr>\n",
       "      <th>1</th>\n",
       "      <td>孩子气</td>\n",
       "      <td>傻</td>\n",
       "      <td>2.91</td>\n",
       "      <td>1.33</td>\n",
       "    </tr>\n",
       "    <tr>\n",
       "      <th>2</th>\n",
       "      <td>生病</td>\n",
       "      <td>疯</td>\n",
       "      <td>0.91</td>\n",
       "      <td>2.00</td>\n",
       "    </tr>\n",
       "    <tr>\n",
       "      <th>3</th>\n",
       "      <td>残忍</td>\n",
       "      <td>不公平</td>\n",
       "      <td>0.45</td>\n",
       "      <td>0.67</td>\n",
       "    </tr>\n",
       "    <tr>\n",
       "      <th>4</th>\n",
       "      <td>怪诞</td>\n",
       "      <td>奇怪</td>\n",
       "      <td>4.64</td>\n",
       "      <td>1.08</td>\n",
       "    </tr>\n",
       "    <tr>\n",
       "      <th>...</th>\n",
       "      <td>...</td>\n",
       "      <td>...</td>\n",
       "      <td>...</td>\n",
       "      <td>...</td>\n",
       "    </tr>\n",
       "    <tr>\n",
       "      <th>113</th>\n",
       "      <td>做</td>\n",
       "      <td>赚</td>\n",
       "      <td>0.36</td>\n",
       "      <td>0.84</td>\n",
       "    </tr>\n",
       "    <tr>\n",
       "      <th>114</th>\n",
       "      <td>赦免</td>\n",
       "      <td>原谅</td>\n",
       "      <td>3.82</td>\n",
       "      <td>1.76</td>\n",
       "    </tr>\n",
       "    <tr>\n",
       "      <th>115</th>\n",
       "      <td>敬礼</td>\n",
       "      <td>演出</td>\n",
       "      <td>0.00</td>\n",
       "      <td>0.00</td>\n",
       "    </tr>\n",
       "    <tr>\n",
       "      <th>116</th>\n",
       "      <td>拖着脚走</td>\n",
       "      <td>骑</td>\n",
       "      <td>0.00</td>\n",
       "      <td>0.00</td>\n",
       "    </tr>\n",
       "    <tr>\n",
       "      <th>117</th>\n",
       "      <td>混合</td>\n",
       "      <td>联合</td>\n",
       "      <td>1.64</td>\n",
       "      <td>1.77</td>\n",
       "    </tr>\n",
       "  </tbody>\n",
       "</table>\n",
       "<p>118 rows × 4 columns</p>\n",
       "</div>"
      ],
      "text/plain": [
       "    word1 word2  act_sl  act_sd\n",
       "0      开心    高兴    5.55    0.53\n",
       "1     孩子气     傻    2.91    1.33\n",
       "2      生病     疯    0.91    2.00\n",
       "3      残忍   不公平    0.45    0.67\n",
       "4      怪诞    奇怪    4.64    1.08\n",
       "..    ...   ...     ...     ...\n",
       "113     做     赚    0.36    0.84\n",
       "114    赦免    原谅    3.82    1.76\n",
       "115    敬礼    演出    0.00    0.00\n",
       "116  拖着脚走     骑    0.00    0.00\n",
       "117    混合    联合    1.64    1.77\n",
       "\n",
       "[118 rows x 4 columns]"
      ]
     },
     "execution_count": 12,
     "metadata": {},
     "output_type": "execute_result"
    }
   ],
   "source": [
    "# Copy dataframe\n",
    "actual = raw_actual.copy()\n",
    "\n",
    "# List of columns to calculate prediction mean\n",
    "annotation_cols = [f\"Annotator {i}\" for i in range(1, 11)]\n",
    "\n",
    "# Calculate the prediction mean\n",
    "actual['act_sl'] = actual['avg_anno']\n",
    "\n",
    "# Calculate the prediction standard deviation\n",
    "actual['act_sd'] = actual[annotation_cols].std(axis=1).round(2)\n",
    "\n",
    "actual = actual[['word1', 'word2', 'act_sl', 'act_sd']]\n",
    "\n",
    "# Show results\n",
    "actual"
   ]
  },
  {
   "cell_type": "code",
   "execution_count": 13,
   "metadata": {},
   "outputs": [
    {
     "data": {
      "text/html": [
       "<div>\n",
       "<style scoped>\n",
       "    .dataframe tbody tr th:only-of-type {\n",
       "        vertical-align: middle;\n",
       "    }\n",
       "\n",
       "    .dataframe tbody tr th {\n",
       "        vertical-align: top;\n",
       "    }\n",
       "\n",
       "    .dataframe thead th {\n",
       "        text-align: right;\n",
       "    }\n",
       "</style>\n",
       "<table border=\"1\" class=\"dataframe\">\n",
       "  <thead>\n",
       "    <tr style=\"text-align: right;\">\n",
       "      <th></th>\n",
       "      <th>word1</th>\n",
       "      <th>word2</th>\n",
       "      <th>pred_sl</th>\n",
       "      <th>pred_sd</th>\n",
       "      <th>act_sl</th>\n",
       "      <th>act_sd</th>\n",
       "    </tr>\n",
       "  </thead>\n",
       "  <tbody>\n",
       "    <tr>\n",
       "      <th>0</th>\n",
       "      <td>开心</td>\n",
       "      <td>高兴</td>\n",
       "      <td>6.00</td>\n",
       "      <td>0.00</td>\n",
       "      <td>5.55</td>\n",
       "      <td>0.53</td>\n",
       "    </tr>\n",
       "    <tr>\n",
       "      <th>1</th>\n",
       "      <td>孩子气</td>\n",
       "      <td>傻</td>\n",
       "      <td>0.93</td>\n",
       "      <td>0.88</td>\n",
       "      <td>2.91</td>\n",
       "      <td>1.33</td>\n",
       "    </tr>\n",
       "    <tr>\n",
       "      <th>2</th>\n",
       "      <td>生病</td>\n",
       "      <td>疯</td>\n",
       "      <td>0.00</td>\n",
       "      <td>0.00</td>\n",
       "      <td>0.91</td>\n",
       "      <td>2.00</td>\n",
       "    </tr>\n",
       "    <tr>\n",
       "      <th>3</th>\n",
       "      <td>残忍</td>\n",
       "      <td>不公平</td>\n",
       "      <td>0.00</td>\n",
       "      <td>0.00</td>\n",
       "      <td>0.45</td>\n",
       "      <td>0.67</td>\n",
       "    </tr>\n",
       "    <tr>\n",
       "      <th>4</th>\n",
       "      <td>怪诞</td>\n",
       "      <td>奇怪</td>\n",
       "      <td>4.53</td>\n",
       "      <td>0.52</td>\n",
       "      <td>4.64</td>\n",
       "      <td>1.08</td>\n",
       "    </tr>\n",
       "    <tr>\n",
       "      <th>...</th>\n",
       "      <td>...</td>\n",
       "      <td>...</td>\n",
       "      <td>...</td>\n",
       "      <td>...</td>\n",
       "      <td>...</td>\n",
       "      <td>...</td>\n",
       "    </tr>\n",
       "    <tr>\n",
       "      <th>113</th>\n",
       "      <td>做</td>\n",
       "      <td>赚</td>\n",
       "      <td>0.00</td>\n",
       "      <td>0.00</td>\n",
       "      <td>0.36</td>\n",
       "      <td>0.84</td>\n",
       "    </tr>\n",
       "    <tr>\n",
       "      <th>114</th>\n",
       "      <td>赦免</td>\n",
       "      <td>原谅</td>\n",
       "      <td>3.73</td>\n",
       "      <td>0.46</td>\n",
       "      <td>3.82</td>\n",
       "      <td>1.76</td>\n",
       "    </tr>\n",
       "    <tr>\n",
       "      <th>115</th>\n",
       "      <td>敬礼</td>\n",
       "      <td>演出</td>\n",
       "      <td>0.00</td>\n",
       "      <td>0.00</td>\n",
       "      <td>0.00</td>\n",
       "      <td>0.00</td>\n",
       "    </tr>\n",
       "    <tr>\n",
       "      <th>116</th>\n",
       "      <td>拖着脚走</td>\n",
       "      <td>骑</td>\n",
       "      <td>0.00</td>\n",
       "      <td>0.00</td>\n",
       "      <td>0.00</td>\n",
       "      <td>0.00</td>\n",
       "    </tr>\n",
       "    <tr>\n",
       "      <th>117</th>\n",
       "      <td>混合</td>\n",
       "      <td>联合</td>\n",
       "      <td>2.73</td>\n",
       "      <td>0.59</td>\n",
       "      <td>1.64</td>\n",
       "      <td>1.77</td>\n",
       "    </tr>\n",
       "  </tbody>\n",
       "</table>\n",
       "<p>118 rows × 6 columns</p>\n",
       "</div>"
      ],
      "text/plain": [
       "    word1 word2  pred_sl  pred_sd  act_sl  act_sd\n",
       "0      开心    高兴     6.00     0.00    5.55    0.53\n",
       "1     孩子气     傻     0.93     0.88    2.91    1.33\n",
       "2      生病     疯     0.00     0.00    0.91    2.00\n",
       "3      残忍   不公平     0.00     0.00    0.45    0.67\n",
       "4      怪诞    奇怪     4.53     0.52    4.64    1.08\n",
       "..    ...   ...      ...      ...     ...     ...\n",
       "113     做     赚     0.00     0.00    0.36    0.84\n",
       "114    赦免    原谅     3.73     0.46    3.82    1.76\n",
       "115    敬礼    演出     0.00     0.00    0.00    0.00\n",
       "116  拖着脚走     骑     0.00     0.00    0.00    0.00\n",
       "117    混合    联合     2.73     0.59    1.64    1.77\n",
       "\n",
       "[118 rows x 6 columns]"
      ]
     },
     "execution_count": 13,
     "metadata": {},
     "output_type": "execute_result"
    }
   ],
   "source": [
    "# Merge predicted and actual DataFrames\n",
    "merged = pd.merge(predicted, actual, on=['word1', 'word2'])\n",
    "\n",
    "# Show results\n",
    "merged"
   ]
  },
  {
   "cell_type": "code",
   "execution_count": 14,
   "metadata": {},
   "outputs": [],
   "source": [
    "merged['pred_act_gap']=merged['pred_sl']-merged['act_sl']\n",
    "merged_sorted = merged.sort_values(by=\"pred_act_gap\", ascending = False)\n",
    "merged_sorted.to_csv('f9_diff.csv')"
   ]
  },
  {
   "cell_type": "markdown",
   "metadata": {},
   "source": [
    "### **3. Descriptive Statistics**"
   ]
  },
  {
   "cell_type": "code",
   "execution_count": 16,
   "metadata": {},
   "outputs": [
    {
     "data": {
      "text/html": [
       "<div>\n",
       "<style scoped>\n",
       "    .dataframe tbody tr th:only-of-type {\n",
       "        vertical-align: middle;\n",
       "    }\n",
       "\n",
       "    .dataframe tbody tr th {\n",
       "        vertical-align: top;\n",
       "    }\n",
       "\n",
       "    .dataframe thead th {\n",
       "        text-align: right;\n",
       "    }\n",
       "</style>\n",
       "<table border=\"1\" class=\"dataframe\">\n",
       "  <thead>\n",
       "    <tr style=\"text-align: right;\">\n",
       "      <th></th>\n",
       "      <th>pred_sl</th>\n",
       "      <th>act_sl</th>\n",
       "      <th>pred_sd</th>\n",
       "      <th>act_sd</th>\n",
       "    </tr>\n",
       "  </thead>\n",
       "  <tbody>\n",
       "    <tr>\n",
       "      <th>count</th>\n",
       "      <td>118.00</td>\n",
       "      <td>118.00</td>\n",
       "      <td>118.00</td>\n",
       "      <td>118.00</td>\n",
       "    </tr>\n",
       "    <tr>\n",
       "      <th>mean</th>\n",
       "      <td>1.57</td>\n",
       "      <td>1.59</td>\n",
       "      <td>0.12</td>\n",
       "      <td>0.93</td>\n",
       "    </tr>\n",
       "    <tr>\n",
       "      <th>std</th>\n",
       "      <td>1.94</td>\n",
       "      <td>1.65</td>\n",
       "      <td>0.27</td>\n",
       "      <td>0.58</td>\n",
       "    </tr>\n",
       "    <tr>\n",
       "      <th>min</th>\n",
       "      <td>0.00</td>\n",
       "      <td>0.00</td>\n",
       "      <td>0.00</td>\n",
       "      <td>0.00</td>\n",
       "    </tr>\n",
       "    <tr>\n",
       "      <th>25%</th>\n",
       "      <td>0.00</td>\n",
       "      <td>0.18</td>\n",
       "      <td>0.00</td>\n",
       "      <td>0.42</td>\n",
       "    </tr>\n",
       "    <tr>\n",
       "      <th>50%</th>\n",
       "      <td>0.14</td>\n",
       "      <td>0.73</td>\n",
       "      <td>0.00</td>\n",
       "      <td>0.97</td>\n",
       "    </tr>\n",
       "    <tr>\n",
       "      <th>75%</th>\n",
       "      <td>2.62</td>\n",
       "      <td>2.98</td>\n",
       "      <td>0.00</td>\n",
       "      <td>1.37</td>\n",
       "    </tr>\n",
       "    <tr>\n",
       "      <th>max</th>\n",
       "      <td>6.00</td>\n",
       "      <td>5.64</td>\n",
       "      <td>1.01</td>\n",
       "      <td>2.00</td>\n",
       "    </tr>\n",
       "    <tr>\n",
       "      <th>median</th>\n",
       "      <td>0.14</td>\n",
       "      <td>0.73</td>\n",
       "      <td>0.00</td>\n",
       "      <td>0.97</td>\n",
       "    </tr>\n",
       "  </tbody>\n",
       "</table>\n",
       "</div>"
      ],
      "text/plain": [
       "        pred_sl  act_sl  pred_sd  act_sd\n",
       "count    118.00  118.00   118.00  118.00\n",
       "mean       1.57    1.59     0.12    0.93\n",
       "std        1.94    1.65     0.27    0.58\n",
       "min        0.00    0.00     0.00    0.00\n",
       "25%        0.00    0.18     0.00    0.42\n",
       "50%        0.14    0.73     0.00    0.97\n",
       "75%        2.62    2.98     0.00    1.37\n",
       "max        6.00    5.64     1.01    2.00\n",
       "median     0.14    0.73     0.00    0.97"
      ]
     },
     "execution_count": 16,
     "metadata": {},
     "output_type": "execute_result"
    }
   ],
   "source": [
    "# Summary statistics MultiSimlex_CN\n",
    "pred_sl_summary = round(predicted['pred_sl'].describe(), 2)\n",
    "act_sl_summary = round(actual['act_sl'].describe(), 2)\n",
    "\n",
    "# Add median MultiSimlex_CN\n",
    "pred_sl_summary['median'] = round(predicted['pred_sl'].median(), 2)\n",
    "act_sl_summary['median'] = round(actual['act_sl'].median(), 2)\n",
    "\n",
    "# Summary statistics standard deviations\n",
    "pred_sd_summary = round(predicted['pred_sd'].describe(), 2)\n",
    "act_sd_summary = round(actual['act_sd'].describe(), 2)\n",
    "\n",
    "# Add median standard deviation\n",
    "pred_sd_summary['median'] = round(predicted['pred_sd'].median(), 2)\n",
    "act_sd_summary['median'] = round(actual['act_sd'].median(), 2)\n",
    "\n",
    "# Create pandas DataFrame\n",
    "summary_df = pd.DataFrame({\n",
    "    \"pred_sl\": pred_sl_summary,\n",
    "    \"act_sl\": act_sl_summary,\n",
    "    \"pred_sd\": pred_sd_summary,\n",
    "    \"act_sd\": act_sd_summary\n",
    "})\n",
    "\n",
    "# Show results\n",
    "summary_df"
   ]
  },
  {
   "cell_type": "markdown",
   "metadata": {},
   "source": [
    "#### **3.1. MultiSimlex_CN**"
   ]
  },
  {
   "cell_type": "code",
   "execution_count": 18,
   "metadata": {},
   "outputs": [
    {
     "data": {
      "image/png": "[encoded data removed]",
      "text/plain": [
       "<Figure size 600x600 with 1 Axes>"
      ]
     },
     "metadata": {},
     "output_type": "display_data"
    }
   ],
   "source": [
    "# Rename columns and copy\n",
    "renamed_pred_sl = predicted.rename(columns={\"pred_sl\": \"MultiSimlex_CN\"}).copy()\n",
    "renamed_act_sl = actual.rename(columns={\"act_sl\": \"MultiSimlex_CN\"}).copy()\n",
    "\n",
    "# Create dummy label\n",
    "renamed_pred_sl['Score'] = 'Predicted'\n",
    "renamed_act_sl['Score'] = 'Actual'\n",
    "\n",
    "# Combine DataFrames\n",
    "combined_data = pd.concat([renamed_pred_sl, renamed_act_sl])\n",
    "\n",
    "# Create boxplot\n",
    "plt.figure(figsize=(6, 6))\n",
    "sns.boxplot(\n",
    "    x='Score',\n",
    "    y='MultiSimlex_CN',\n",
    "    data=combined_data,\n",
    "    palette=['skyblue', 'lightgreen'],\n",
    "    boxprops={'edgecolor': 'black'},\n",
    "    whiskerprops={'color': 'black'},\n",
    "    flierprops={'marker': 'o', 'color': 'black', 'markerfacecolor': 'black'},\n",
    "    capprops={'color': 'black'},\n",
    "    medianprops={'color': 'black'}\n",
    ")\n",
    "\n",
    "# Set labels and title\n",
    "plt.ylabel('MultiSimlex_CN')\n",
    "# plt.title('Comparison of MultiSimlex_CN')\n",
    "\n",
    "# Customize y-axis ticks\n",
    "plt.gca().yaxis.set_major_locator(ticker.MaxNLocator(integer=True))\n",
    "plt.ylim(0, 6.1)  # Setting y-axis limits from 0 to 6\n",
    "\n",
    "# Remove x-axis label\n",
    "plt.xlabel('')\n",
    "\n",
    "# Adjust layout\n",
    "plt.tight_layout()\n",
    "plt.savefig(\"f9sim.png\")\n",
    "# Show results\n",
    "plt.show()"
   ]
  },
  {
   "cell_type": "markdown",
   "metadata": {},
   "source": [
    "#### **3.2. Standard Deviation**"
   ]
  },
  {
   "cell_type": "code",
   "execution_count": 20,
   "metadata": {},
   "outputs": [
    {
     "data": {
      "image/png": "[encoded data removed]",
      "text/plain": [
       "<Figure size 600x600 with 1 Axes>"
      ]
     },
     "metadata": {},
     "output_type": "display_data"
    }
   ],
   "source": [
    "# Rename columns and copy\n",
    "renamed_predicted_sd = predicted.rename(columns={\"pred_sd\": \"Standard Deviation\"}).copy()\n",
    "renamed_actual_sd = actual.rename(columns={\"act_sd\": \"Standard Deviation\"}).copy()\n",
    "\n",
    "# Create dummy label\n",
    "renamed_predicted_sd['Score'] = 'Predicted'\n",
    "renamed_actual_sd['Score'] = 'Actual'\n",
    "\n",
    "# Combine DataFrames\n",
    "combined_data = pd.concat([renamed_predicted_sd, renamed_actual_sd])\n",
    "\n",
    "# Create boxplot\n",
    "plt.figure(figsize=(6, 6))\n",
    "sns.boxplot(\n",
    "    x='Score',\n",
    "    y='Standard Deviation',\n",
    "    data=combined_data,\n",
    "    palette=['skyblue', 'lightgreen'],\n",
    "    boxprops={'edgecolor': 'black'},\n",
    "    whiskerprops={'color': 'black'},\n",
    "    flierprops={'marker': 'o', 'color': 'black', 'markerfacecolor': 'black'},\n",
    "    capprops={'color': 'black'},\n",
    "    medianprops={'color': 'black'}\n",
    ")\n",
    "\n",
    "# Set labels and title\n",
    "plt.ylabel('Standard Deviation')\n",
    "# plt.title('Comparison of Standard Deviation')\n",
    "\n",
    "# Customizing y-axis ticks\n",
    "plt.gca().yaxis.set_major_locator(ticker.MaxNLocator(integer=True))\n",
    "plt.ylim(0, 3)  # Setting y-axis limits from 0 to 3\n",
    "\n",
    "# Remove x-axis label\n",
    "plt.xlabel('')\n",
    "\n",
    "# Adjust layout\n",
    "plt.tight_layout()\n",
    "plt.savefig(\"f9sd.png\")\n",
    "# Show results\n",
    "plt.show()"
   ]
  },
  {
   "cell_type": "markdown",
   "metadata": {},
   "source": [
    "### **4. Distributions**"
   ]
  },
  {
   "cell_type": "markdown",
   "metadata": {},
   "source": [
    "#### **4.1. SimLex-999**"
   ]
  },
  {
   "cell_type": "code",
   "execution_count": 24,
   "metadata": {},
   "outputs": [
    {
     "data": {
      "image/png": "[encoded data removed]",
      "text/plain": [
       "<Figure size 1000x400 with 2 Axes>"
      ]
     },
     "metadata": {},
     "output_type": "display_data"
    }
   ],
   "source": [
    "# Create figure with two subplots\n",
    "fig, axes = plt.subplots(1, 2, figsize=(10, 4))\n",
    "\n",
    "# Define x-axis limits\n",
    "x_min = 0\n",
    "x_max = 6\n",
    "\n",
    "# Define bins\n",
    "bins = 6\n",
    "\n",
    "# Plot predicted histogram\n",
    "axes[0].hist(renamed_pred_sl['MultiSimlex_CN'], bins=bins, edgecolor='black', color='skyblue')\n",
    "axes[0].set_title('Predicted')\n",
    "axes[0].set_xlabel('MultiSimlex_CN')\n",
    "axes[0].set_ylabel('Frequency')\n",
    "axes[0].set_xlim(x_min, x_max)\n",
    "axes[0].xaxis.set_major_locator(ticker.MaxNLocator(integer=True))\n",
    "axes[0].grid(False) # Remove grid\n",
    "\n",
    "# Plot actual histogram\n",
    "axes[1].hist(renamed_act_sl['MultiSimlex_CN'], bins=bins, edgecolor='black', color='lightgreen')\n",
    "axes[1].set_title('Actual')\n",
    "axes[1].set_xlabel('MultiSimlex_CN')\n",
    "axes[1].set_ylabel('Frequency')\n",
    "axes[1].set_xlim(x_min, x_max)\n",
    "axes[1].xaxis.set_major_locator(ticker.MaxNLocator(integer=True))\n",
    "axes[1].grid(False) # Remove grid\n",
    "\n",
    "# Adjust layout\n",
    "plt.tight_layout()\n",
    "\n",
    "# Show results\n",
    "plt.show()"
   ]
  },
  {
   "cell_type": "markdown",
   "metadata": {},
   "source": [
    "#### **4.2. Standard Deviation**"
   ]
  },
  {
   "cell_type": "code",
   "execution_count": 26,
   "metadata": {},
   "outputs": [
    {
     "data": {
      "image/png": "[encoded data removed]",
      "text/plain": [
       "<Figure size 1000x400 with 2 Axes>"
      ]
     },
     "metadata": {},
     "output_type": "display_data"
    }
   ],
   "source": [
    "# Create figure with two subplots\n",
    "fig, axes = plt.subplots(1, 2, figsize=(10, 4))\n",
    "\n",
    "# Define x-axis limits\n",
    "x_min = 0\n",
    "x_max = 3\n",
    "\n",
    "# Define bins\n",
    "bins = 3\n",
    "\n",
    "# Plot predicted histogram\n",
    "axes[0].hist(renamed_predicted_sd['Standard Deviation'], bins=bins, edgecolor='black', color='skyblue')\n",
    "axes[0].set_title('Predicted')\n",
    "axes[0].set_xlabel('Standard Deviation')\n",
    "axes[0].set_ylabel('Frequency')\n",
    "axes[0].set_xlim(x_min, x_max)\n",
    "axes[0].xaxis.set_major_locator(ticker.MaxNLocator(integer=True))\n",
    "axes[0].grid(False) # Remove grid\n",
    "\n",
    "# Plot actual histogram\n",
    "axes[1].hist(renamed_actual_sd['Standard Deviation'], bins=bins, edgecolor='black', color='lightgreen')\n",
    "axes[1].set_title('Actual')\n",
    "axes[1].set_xlabel('Standard Deviation')\n",
    "axes[1].set_ylabel('Frequency')\n",
    "axes[1].set_xlim(x_min, x_max)\n",
    "axes[1].xaxis.set_major_locator(ticker.MaxNLocator(integer=True))\n",
    "axes[1].grid(False) # Remove grid\n",
    "\n",
    "# Adjust layout\n",
    "plt.tight_layout()\n",
    "\n",
    "# Show results\n",
    "plt.show()"
   ]
  },
  {
   "cell_type": "markdown",
   "metadata": {},
   "source": [
    "### **5. Outliers**"
   ]
  },
  {
   "cell_type": "markdown",
   "metadata": {},
   "source": [
    "#### **5.1. Predicted**"
   ]
  },
  {
   "cell_type": "code",
   "execution_count": 29,
   "metadata": {},
   "outputs": [
    {
     "name": "stdout",
     "output_type": "stream",
     "text": [
      "Outliers in pred_sd: 22\n",
      "No outliers found in columns: pred_sl\n"
     ]
    }
   ],
   "source": [
    "# Count outliers\n",
    "print_outlier_counts(predicted)"
   ]
  },
  {
   "cell_type": "code",
   "execution_count": 30,
   "metadata": {},
   "outputs": [
    {
     "name": "stdout",
     "output_type": "stream",
     "text": [
      "\n",
      "Outliers in pred_sd:\n",
      "    word1  word2  pred_sl  pred_sd\n",
      "1     孩子气      傻     0.93     0.88\n",
      "4      怪诞     奇怪     4.53     0.52\n",
      "14    无实体     心灵     2.27     0.59\n",
      "19    紧张地    焦急地     4.80     0.41\n",
      "31     衣服     布料     2.07     0.26\n",
      "33      床     家俱     2.13     0.52\n",
      "39     下面     侧面     1.47     0.92\n",
      "43     男孩     孩子     3.87     0.52\n",
      "68     骨头     牙齿     0.80     1.01\n",
      "72     价值     价格     2.07     0.26\n",
      "74      花     灌木     1.00     1.00\n",
      "82   威士忌酒   杜松子酒     0.27     0.70\n",
      "83     飞机  喷气式飞机     3.73     0.70\n",
      "87     蜥蜴     鳄鱼     1.20     1.01\n",
      "93     装作     似乎     1.20     1.01\n",
      "94     戏弄     伤害     0.80     1.01\n",
      "97     收藏     保存     4.27     0.46\n",
      "98     收到     接受     3.73     0.46\n",
      "99     生活     生存     2.13     0.35\n",
      "109    搜索      看     1.73     0.46\n",
      "114    赦免     原谅     3.73     0.46\n",
      "117    混合     联合     2.73     0.59\n"
     ]
    }
   ],
   "source": [
    "# Row outliers\n",
    "print_outlier_data(predicted, 'pred_sd')"
   ]
  },
  {
   "cell_type": "markdown",
   "metadata": {},
   "source": [
    "#### **5.2. Actual**"
   ]
  },
  {
   "cell_type": "code",
   "execution_count": 32,
   "metadata": {},
   "outputs": [
    {
     "name": "stdout",
     "output_type": "stream",
     "text": [
      "No outliers found in columns: act_sl, act_sd\n"
     ]
    }
   ],
   "source": [
    "# Count outliers\n",
    "print_outlier_counts(actual)"
   ]
  },
  {
   "cell_type": "code",
   "execution_count": 33,
   "metadata": {},
   "outputs": [
    {
     "name": "stdout",
     "output_type": "stream",
     "text": [
      "No outliers found in act_sd\n"
     ]
    }
   ],
   "source": [
    "# Row outliers\n",
    "print_outlier_data(actual, 'act_sd')"
   ]
  },
  {
   "cell_type": "markdown",
   "metadata": {},
   "source": [
    "#### **5.3. Add to Summary**"
   ]
  },
  {
   "cell_type": "code",
   "execution_count": 35,
   "metadata": {},
   "outputs": [
    {
     "data": {
      "text/html": [
       "<div>\n",
       "<style scoped>\n",
       "    .dataframe tbody tr th:only-of-type {\n",
       "        vertical-align: middle;\n",
       "    }\n",
       "\n",
       "    .dataframe tbody tr th {\n",
       "        vertical-align: top;\n",
       "    }\n",
       "\n",
       "    .dataframe thead th {\n",
       "        text-align: right;\n",
       "    }\n",
       "</style>\n",
       "<table border=\"1\" class=\"dataframe\">\n",
       "  <thead>\n",
       "    <tr style=\"text-align: right;\">\n",
       "      <th></th>\n",
       "      <th>pred_sl</th>\n",
       "      <th>act_sl</th>\n",
       "      <th>pred_sd</th>\n",
       "      <th>act_sd</th>\n",
       "    </tr>\n",
       "  </thead>\n",
       "  <tbody>\n",
       "    <tr>\n",
       "      <th>count</th>\n",
       "      <td>118.00</td>\n",
       "      <td>118.00</td>\n",
       "      <td>118.00</td>\n",
       "      <td>118.00</td>\n",
       "    </tr>\n",
       "    <tr>\n",
       "      <th>mean</th>\n",
       "      <td>1.57</td>\n",
       "      <td>1.59</td>\n",
       "      <td>0.12</td>\n",
       "      <td>0.93</td>\n",
       "    </tr>\n",
       "    <tr>\n",
       "      <th>std</th>\n",
       "      <td>1.94</td>\n",
       "      <td>1.65</td>\n",
       "      <td>0.27</td>\n",
       "      <td>0.58</td>\n",
       "    </tr>\n",
       "    <tr>\n",
       "      <th>min</th>\n",
       "      <td>0.00</td>\n",
       "      <td>0.00</td>\n",
       "      <td>0.00</td>\n",
       "      <td>0.00</td>\n",
       "    </tr>\n",
       "    <tr>\n",
       "      <th>25%</th>\n",
       "      <td>0.00</td>\n",
       "      <td>0.18</td>\n",
       "      <td>0.00</td>\n",
       "      <td>0.42</td>\n",
       "    </tr>\n",
       "    <tr>\n",
       "      <th>50%</th>\n",
       "      <td>0.14</td>\n",
       "      <td>0.73</td>\n",
       "      <td>0.00</td>\n",
       "      <td>0.97</td>\n",
       "    </tr>\n",
       "    <tr>\n",
       "      <th>75%</th>\n",
       "      <td>2.62</td>\n",
       "      <td>2.98</td>\n",
       "      <td>0.00</td>\n",
       "      <td>1.37</td>\n",
       "    </tr>\n",
       "    <tr>\n",
       "      <th>max</th>\n",
       "      <td>6.00</td>\n",
       "      <td>5.64</td>\n",
       "      <td>1.01</td>\n",
       "      <td>2.00</td>\n",
       "    </tr>\n",
       "    <tr>\n",
       "      <th>median</th>\n",
       "      <td>0.14</td>\n",
       "      <td>0.73</td>\n",
       "      <td>0.00</td>\n",
       "      <td>0.97</td>\n",
       "    </tr>\n",
       "    <tr>\n",
       "      <th>outliers</th>\n",
       "      <td>0.00</td>\n",
       "      <td>0.00</td>\n",
       "      <td>22.00</td>\n",
       "      <td>0.00</td>\n",
       "    </tr>\n",
       "  </tbody>\n",
       "</table>\n",
       "</div>"
      ],
      "text/plain": [
       "          pred_sl  act_sl  pred_sd  act_sd\n",
       "count      118.00  118.00   118.00  118.00\n",
       "mean         1.57    1.59     0.12    0.93\n",
       "std          1.94    1.65     0.27    0.58\n",
       "min          0.00    0.00     0.00    0.00\n",
       "25%          0.00    0.18     0.00    0.42\n",
       "50%          0.14    0.73     0.00    0.97\n",
       "75%          2.62    2.98     0.00    1.37\n",
       "max          6.00    5.64     1.01    2.00\n",
       "median       0.14    0.73     0.00    0.97\n",
       "outliers     0.00    0.00    22.00    0.00"
      ]
     },
     "execution_count": 35,
     "metadata": {},
     "output_type": "execute_result"
    }
   ],
   "source": [
    "# Calculate outliers\n",
    "outliers_pred_sl = calculate_outliers(predicted, 'pred_sl')\n",
    "outliers_pred_sd = calculate_outliers(predicted, 'pred_sd')\n",
    "outliers_act_sl = calculate_outliers(actual, 'act_sl')\n",
    "outliers_act_sd = calculate_outliers(actual, 'act_sd')\n",
    "\n",
    "# Count outliers\n",
    "count_outliers_pred_sl = outliers_pred_sl.shape[0]\n",
    "count_outliers_pred_sd = outliers_pred_sd.shape[0]\n",
    "count_outliers_act_sl = outliers_act_sl.shape[0]\n",
    "count_outliers_act_sd = outliers_act_sd.shape[0]\n",
    "\n",
    "# Add outliers count to summary\n",
    "outliers_row = pd.Series([count_outliers_pred_sl, count_outliers_act_sl, count_outliers_pred_sd, count_outliers_act_sd], \n",
    "    index=summary_df.columns,\n",
    "    name='outliers'\n",
    ")\n",
    "summary_df = pd.concat([summary_df, outliers_row.to_frame().T])\n",
    "\n",
    "# Show results\n",
    "summary_df"
   ]
  },
  {
   "cell_type": "markdown",
   "metadata": {},
   "source": [
    "### **6. Correlation**"
   ]
  },
  {
   "cell_type": "markdown",
   "metadata": {},
   "source": [
    "#### **6.1. SimLex-999 vs Standard Deviation**"
   ]
  },
  {
   "cell_type": "code",
   "execution_count": 38,
   "metadata": {},
   "outputs": [
    {
     "data": {
      "image/png": "[encoded data removed]",
      "text/plain": [
       "<Figure size 1000x400 with 2 Axes>"
      ]
     },
     "metadata": {},
     "output_type": "display_data"
    }
   ],
   "source": [
    "# Create figure with two subplots\n",
    "fig, axes = plt.subplots(1, 2, figsize=(10, 4))\n",
    "\n",
    "# Define x-axis limits\n",
    "x_min = 0\n",
    "x_max = 6.1\n",
    "y_min = 0\n",
    "y_max = 3.0\n",
    "\n",
    "# Create scatter plot\n",
    "sns.scatterplot(x='pred_sl', y='pred_sd', data=predicted, ax=axes[0], color='skyblue', edgecolor='black')\n",
    "\n",
    "# Plot diagonal line\n",
    "axes[0].plot([x_min, x_max], [y_min, y_max], color='red', linestyle='--')\n",
    "\n",
    "# Set axis limits\n",
    "axes[0].set_xlim(x_min, x_max)\n",
    "axes[0].set_ylim(y_min, y_max)\n",
    "\n",
    "# Set labels and title\n",
    "axes[0].set_xlabel('MultiSimlex_CN')\n",
    "axes[0].set_ylabel('Standard Deviation')\n",
    "axes[0].set_title('Predicted')\n",
    "\n",
    "# Remove grid\n",
    "axes[0].grid(False)\n",
    "\n",
    "# Create scatter plot\n",
    "sns.scatterplot(x='act_sl', y='act_sd', data=actual, ax=axes[1], color='lightgreen', edgecolor='black')\n",
    "\n",
    "# Plot diagonal line\n",
    "axes[1].plot([x_min, x_max], [y_min, y_max], color='red', linestyle='--')\n",
    "\n",
    "# Set axis limits\n",
    "axes[1].set_xlim(x_min, x_max)\n",
    "axes[1].set_ylim(y_min, y_max)\n",
    "\n",
    "# Set labels and title\n",
    "axes[1].set_xlabel('MultiSimlex_CN')\n",
    "axes[1].set_ylabel('Standard Deviation')\n",
    "axes[1].set_title('Actual')\n",
    "\n",
    "# Remove grid\n",
    "axes[1].grid(False)\n",
    "\n",
    "# Adjust layout\n",
    "plt.tight_layout()\n",
    "\n",
    "# Show results\n",
    "plt.show()"
   ]
  },
  {
   "cell_type": "code",
   "execution_count": 39,
   "metadata": {},
   "outputs": [
    {
     "data": {
      "text/html": [
       "<div>\n",
       "<style scoped>\n",
       "    .dataframe tbody tr th:only-of-type {\n",
       "        vertical-align: middle;\n",
       "    }\n",
       "\n",
       "    .dataframe tbody tr th {\n",
       "        vertical-align: top;\n",
       "    }\n",
       "\n",
       "    .dataframe thead th {\n",
       "        text-align: right;\n",
       "    }\n",
       "</style>\n",
       "<table border=\"1\" class=\"dataframe\">\n",
       "  <thead>\n",
       "    <tr style=\"text-align: right;\">\n",
       "      <th></th>\n",
       "      <th>simlex999</th>\n",
       "      <th>standard_deviation</th>\n",
       "      <th>correlation</th>\n",
       "      <th>p_value</th>\n",
       "      <th>significance</th>\n",
       "    </tr>\n",
       "  </thead>\n",
       "  <tbody>\n",
       "    <tr>\n",
       "      <th>0</th>\n",
       "      <td>pred_sl</td>\n",
       "      <td>pred_sd</td>\n",
       "      <td>0.30845</td>\n",
       "      <td>6.783264e-04</td>\n",
       "      <td>significant</td>\n",
       "    </tr>\n",
       "    <tr>\n",
       "      <th>1</th>\n",
       "      <td>act_sl</td>\n",
       "      <td>act_sd</td>\n",
       "      <td>0.70538</td>\n",
       "      <td>4.783752e-19</td>\n",
       "      <td>significant</td>\n",
       "    </tr>\n",
       "  </tbody>\n",
       "</table>\n",
       "</div>"
      ],
      "text/plain": [
       "  simlex999 standard_deviation  correlation       p_value significance\n",
       "0   pred_sl            pred_sd      0.30845  6.783264e-04  significant\n",
       "1    act_sl             act_sd      0.70538  4.783752e-19  significant"
      ]
     },
     "execution_count": 39,
     "metadata": {},
     "output_type": "execute_result"
    }
   ],
   "source": [
    "# List to store correlations\n",
    "correlations_list = []\n",
    "\n",
    "# Append correlations to list\n",
    "correlations_list.append(calculate_correlation_and_pvalue(merged, 'pred_sl', 'pred_sd'))\n",
    "correlations_list.append(calculate_correlation_and_pvalue(merged, 'act_sl', 'act_sd'))\n",
    "\n",
    "# Convert list into Pandas DataFrame\n",
    "correlation_df = pd.DataFrame(correlations_list)\n",
    "\n",
    "# Show results\n",
    "correlation_df"
   ]
  },
  {
   "cell_type": "markdown",
   "metadata": {},
   "source": [
    "### **7. Evaluation Metrics**"
   ]
  },
  {
   "cell_type": "markdown",
   "metadata": {},
   "source": [
    "#### **7.1. Spearmans's Rank Correlation**"
   ]
  },
  {
   "cell_type": "markdown",
   "metadata": {},
   "source": [
    "##### **7.1.1. Actual SimLex-999 vs Predicted SimLex-999**"
   ]
  },
  {
   "cell_type": "code",
   "execution_count": 43,
   "metadata": {},
   "outputs": [
    {
     "data": {
      "image/png": "[encoded data removed]",
      "text/plain": [
       "<Figure size 700x500 with 1 Axes>"
      ]
     },
     "metadata": {},
     "output_type": "display_data"
    }
   ],
   "source": [
    "# Scatter plot\n",
    "plot_scatter_plot(merged, 'pred_sl', 'act_sl', 'Predicted MultiSimlex_CN', 'Actual MultiSimlex_CN', 0, 6.1, 0, 6.1)"
   ]
  },
  {
   "cell_type": "code",
   "execution_count": 44,
   "metadata": {},
   "outputs": [
    {
     "name": "stdout",
     "output_type": "stream",
     "text": [
      "Spearman's Rank correlation: 0.84098\n",
      "P-value: 9.990671352545916e-33\n",
      "The correlation is statistically significant.\n",
      "\n"
     ]
    }
   ],
   "source": [
    "# Correlation and pvalue\n",
    "print_correlation_and_pvalue(merged, 'pred_sl', 'act_sl')"
   ]
  },
  {
   "cell_type": "code",
   "execution_count": 45,
   "metadata": {},
   "outputs": [
    {
     "name": "stdout",
     "output_type": "stream",
     "text": [
      "Kendall’s Tau correlation: 0.71356\n",
      "P-value: 1.5854019125019458e-24\n",
      "The correlation is statistically significant.\n",
      "\n"
     ]
    }
   ],
   "source": [
    "print_tau_correlation_and_pvalue(merged, 'pred_sl', 'act_sl')"
   ]
  },
  {
   "cell_type": "code",
   "execution_count": 46,
   "metadata": {},
   "outputs": [
    {
     "name": "stdout",
     "output_type": "stream",
     "text": [
      "Distance Correlation: 0.84997\n",
      "P-value: 0.000999000999000999\n",
      "The correlation is statistically significant.\n",
      "\n"
     ]
    },
    {
     "name": "stderr",
     "output_type": "stream",
     "text": [
      "C:\\Users\\38155\\AppData\\Local\\Temp\\ipykernel_1548\\692413257.py:19: DeprecationWarning: Attribute \"p_value\" deprecated, use \"pvalue\" instead.\n",
      "  ).p_value\n"
     ]
    },
    {
     "data": {
      "text/plain": [
       "(0.8499707599728189, 0.000999000999000999)"
      ]
     },
     "execution_count": 46,
     "metadata": {},
     "output_type": "execute_result"
    }
   ],
   "source": [
    "print_distance_correlation_and_pvalue(merged, 'pred_sl', 'act_sl',random_state=42)"
   ]
  },
  {
   "cell_type": "code",
   "execution_count": 47,
   "metadata": {},
   "outputs": [
    {
     "name": "stdout",
     "output_type": "stream",
     "text": [
      "Pearson's correlation: 0.87807\n",
      "P-value: 6.214672510572104e-39\n",
      "The correlation is statistically significant.\n",
      "\n"
     ]
    }
   ],
   "source": [
    "print_pearson_correlation_and_pvalue(merged, 'pred_sl', 'act_sl')"
   ]
  },
  {
   "cell_type": "code",
   "execution_count": 48,
   "metadata": {},
   "outputs": [
    {
     "name": "stdout",
     "output_type": "stream",
     "text": [
      "Mean standard deviation per individual word pair: 0.12\n"
     ]
    }
   ],
   "source": [
    "# Standard deviation\n",
    "print(\"Mean standard deviation per individual word pair:\", round(merged['pred_sd'].mean(), 2))"
   ]
  },
  {
   "cell_type": "markdown",
   "metadata": {},
   "source": [
    "##### **7.1.2. Actual Standard Deviation vs Predicted Standard Deviation**"
   ]
  },
  {
   "cell_type": "code",
   "execution_count": 50,
   "metadata": {},
   "outputs": [
    {
     "data": {
      "image/png": "[encoded data removed]",
      "text/plain": [
       "<Figure size 700x500 with 1 Axes>"
      ]
     },
     "metadata": {},
     "output_type": "display_data"
    }
   ],
   "source": [
    "# Scatter plot\n",
    "plot_scatter_plot(merged, 'pred_sd', 'act_sd', 'Predicted Standard Deviation', 'Actual Standard Deviation', 0, 3, 0, 3)"
   ]
  },
  {
   "cell_type": "code",
   "execution_count": 51,
   "metadata": {},
   "outputs": [
    {
     "name": "stdout",
     "output_type": "stream",
     "text": [
      "Spearman's Rank correlation: 0.29278\n",
      "P-value: 0.001293842074217086\n",
      "The correlation is statistically significant.\n",
      "\n"
     ]
    }
   ],
   "source": [
    "# Correlation and p-value\n",
    "print_correlation_and_pvalue(merged, 'pred_sd', 'act_sd')"
   ]
  },
  {
   "cell_type": "code",
   "execution_count": 52,
   "metadata": {},
   "outputs": [
    {
     "name": "stdout",
     "output_type": "stream",
     "text": [
      "Kendall’s Tau correlation: 0.23048\n",
      "P-value: 0.0018488160375957996\n",
      "The correlation is statistically significant.\n",
      "\n"
     ]
    }
   ],
   "source": [
    "print_tau_correlation_and_pvalue(merged, 'pred_sd', 'act_sd')"
   ]
  },
  {
   "cell_type": "code",
   "execution_count": 53,
   "metadata": {},
   "outputs": [
    {
     "name": "stdout",
     "output_type": "stream",
     "text": [
      "Distance Correlation: 0.29796\n",
      "P-value: 0.002997002997002997\n",
      "The correlation is statistically significant.\n",
      "\n"
     ]
    },
    {
     "name": "stderr",
     "output_type": "stream",
     "text": [
      "C:\\Users\\38155\\AppData\\Local\\Temp\\ipykernel_1548\\692413257.py:19: DeprecationWarning: Attribute \"p_value\" deprecated, use \"pvalue\" instead.\n",
      "  ).p_value\n"
     ]
    },
    {
     "data": {
      "text/plain": [
       "(0.2979626163861561, 0.002997002997002997)"
      ]
     },
     "execution_count": 53,
     "metadata": {},
     "output_type": "execute_result"
    }
   ],
   "source": [
    "print_distance_correlation_and_pvalue(merged, 'pred_sd', 'act_sd',random_state=42)"
   ]
  },
  {
   "cell_type": "code",
   "execution_count": 54,
   "metadata": {},
   "outputs": [
    {
     "name": "stdout",
     "output_type": "stream",
     "text": [
      "Pearson's correlation: 0.23502\n",
      "P-value: 0.010412777001794065\n",
      "The correlation is statistically significant.\n",
      "\n"
     ]
    }
   ],
   "source": [
    "print_pearson_correlation_and_pvalue(merged, 'pred_sd', 'act_sd')"
   ]
  },
  {
   "cell_type": "markdown",
   "metadata": {},
   "source": [
    "#### **7.2. Mean Square Error (MSE)**"
   ]
  },
  {
   "cell_type": "code",
   "execution_count": 56,
   "metadata": {},
   "outputs": [
    {
     "name": "stdout",
     "output_type": "stream",
     "text": [
      "Mean Squared Error (MSE): 0.86\n"
     ]
    }
   ],
   "source": [
    "# Calculate Mean Squared Error\n",
    "mse = mean_squared_error(merged['pred_sl'], merged['act_sl'])\n",
    "\n",
    "# Show results\n",
    "print(f\"Mean Squared Error (MSE): {mse:.2f}\")"
   ]
  },
  {
   "cell_type": "markdown",
   "metadata": {},
   "source": [
    "#### **7.3. Mean Absolute Error (MAE)**"
   ]
  },
  {
   "cell_type": "code",
   "execution_count": 58,
   "metadata": {},
   "outputs": [
    {
     "name": "stdout",
     "output_type": "stream",
     "text": [
      "Mean Absolute Error (MAE): 0.64\n"
     ]
    }
   ],
   "source": [
    "# Calculate Mean Absolute Error\n",
    "mae = mean_absolute_error(merged['pred_sl'], merged['act_sl'])\n",
    "\n",
    "# Show results\n",
    "print(f\"Mean Absolute Error (MAE): {mae:.2f}\")"
   ]
  }
 ],
 "metadata": {
  "kernelspec": {
   "display_name": "Python 3 (ipykernel)",
   "language": "python",
   "name": "python3"
  },
  "language_info": {
   "codemirror_mode": {
    "name": "ipython",
    "version": 3
   },
   "file_extension": ".py",
   "mimetype": "text/x-python",
   "name": "python",
   "nbconvert_exporter": "python",
   "pygments_lexer": "ipython3",
   "version": "3.11.5"
  }
 },
 "nbformat": 4,
 "nbformat_minor": 4
}
